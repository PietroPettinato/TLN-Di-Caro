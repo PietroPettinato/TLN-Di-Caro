{
 "cells": [
  {
   "cell_type": "code",
   "execution_count": 337,
   "metadata": {
    "pycharm": {
     "name": "#%%\n"
    }
   },
   "outputs": [],
   "source": [
    "import string\n",
    "import numpy as np\n",
    "import pandas as pd\n",
    "from gensim.models.ldamodel import LdaModel\n",
    "from gensim.corpora import Dictionary\n",
    "from gensim.models import CoherenceModel\n",
    "import pyLDAvis\n",
    "import pyLDAvis.gensim_models as pgs"
   ]
  },
  {
   "cell_type": "markdown",
   "metadata": {
    "pycharm": {
     "name": "#%% md\n"
    }
   },
   "source": [
    "# Esercizio 2.2 - Topic modeling"
   ]
  },
  {
   "cell_type": "markdown",
   "metadata": {
    "pycharm": {
     "name": "#%% md\n"
    }
   },
   "source": [
    "Lo scopo di questo esercizio è quello di ottenere gli argomenti trattati (__topics__) a partire da un corpus.\n",
    "Il corpus è un mix di documenti riguardanti _sport_, _cibo_ e _politica_, abbiamo dunque 3 topics.\n",
    "La ripartizione dei documenti fra i vari topics è:\n",
    "- 4 per lo _sport_\n",
    "- 6 per la _politica_\n",
    "- 5 per il _cibo_\n",
    "\n",
    "in totale abbiamo 15 documenti."
   ]
  },
  {
   "cell_type": "markdown",
   "metadata": {
    "pycharm": {
     "name": "#%% md\n"
    }
   },
   "source": [
    "Carichiamo il corpus in un dataframe pandas, ogni riga corrisponde alle frasi di uno dei documenti della cartella _lda_sports_politics_food_."
   ]
  },
  {
   "cell_type": "code",
   "execution_count": 338,
   "metadata": {
    "pycharm": {
     "name": "#%%\n"
    }
   },
   "outputs": [
    {
     "data": {
      "text/plain": "                                            documents\n0   Badminton is a racquet sport played using racq...\n1   Barack Hussein Obama II (born August 4, 1961) ...\n2   Baseball is a bat-and-ball game played between...\n3   Cricket is a bat-and-ball game played between ...\n4   Dosa is a kind of pancake made from a fermente...\n5   Idli is a traditional breakfast in South India...\n6   Lee Kuan Yew, GCMG, CH, SPMJ (born Harry Lee K...\n7   Narendra Damodardas Modi (born 17 September 19...\n8   Noodles are a staple food in many cultures mad...\n9   Pasta is a staple food of traditional Italian ...\n10  Pizza is a flatbread generally topped with tom...\n11  Elizabeth II (Elizabeth Alexandra Mary; born 2...\n12  Shinzō Abe (Abe Shinzō, IPA: born 21 September...\n13  Table tennis, also known as ping pong, is a sp...\n14  Tipu Sultan (20 November 1750 - 4 May 1799), (...",
      "text/html": "<div>\n<style scoped>\n    .dataframe tbody tr th:only-of-type {\n        vertical-align: middle;\n    }\n\n    .dataframe tbody tr th {\n        vertical-align: top;\n    }\n\n    .dataframe thead th {\n        text-align: right;\n    }\n</style>\n<table border=\"1\" class=\"dataframe\">\n  <thead>\n    <tr style=\"text-align: right;\">\n      <th></th>\n      <th>documents</th>\n    </tr>\n  </thead>\n  <tbody>\n    <tr>\n      <th>0</th>\n      <td>Badminton is a racquet sport played using racq...</td>\n    </tr>\n    <tr>\n      <th>1</th>\n      <td>Barack Hussein Obama II (born August 4, 1961) ...</td>\n    </tr>\n    <tr>\n      <th>2</th>\n      <td>Baseball is a bat-and-ball game played between...</td>\n    </tr>\n    <tr>\n      <th>3</th>\n      <td>Cricket is a bat-and-ball game played between ...</td>\n    </tr>\n    <tr>\n      <th>4</th>\n      <td>Dosa is a kind of pancake made from a fermente...</td>\n    </tr>\n    <tr>\n      <th>5</th>\n      <td>Idli is a traditional breakfast in South India...</td>\n    </tr>\n    <tr>\n      <th>6</th>\n      <td>Lee Kuan Yew, GCMG, CH, SPMJ (born Harry Lee K...</td>\n    </tr>\n    <tr>\n      <th>7</th>\n      <td>Narendra Damodardas Modi (born 17 September 19...</td>\n    </tr>\n    <tr>\n      <th>8</th>\n      <td>Noodles are a staple food in many cultures mad...</td>\n    </tr>\n    <tr>\n      <th>9</th>\n      <td>Pasta is a staple food of traditional Italian ...</td>\n    </tr>\n    <tr>\n      <th>10</th>\n      <td>Pizza is a flatbread generally topped with tom...</td>\n    </tr>\n    <tr>\n      <th>11</th>\n      <td>Elizabeth II (Elizabeth Alexandra Mary; born 2...</td>\n    </tr>\n    <tr>\n      <th>12</th>\n      <td>Shinzō Abe (Abe Shinzō, IPA: born 21 September...</td>\n    </tr>\n    <tr>\n      <th>13</th>\n      <td>Table tennis, also known as ping pong, is a sp...</td>\n    </tr>\n    <tr>\n      <th>14</th>\n      <td>Tipu Sultan (20 November 1750 - 4 May 1799), (...</td>\n    </tr>\n  </tbody>\n</table>\n</div>"
     },
     "execution_count": 338,
     "metadata": {},
     "output_type": "execute_result"
    }
   ],
   "source": [
    "files_name = ['badminton.txt', 'barack obama.txt', 'baseball.txt', 'cricket.txt', 'dosa.txt', 'idli.txt', 'lee quan yew.txt', 'narendra modi.txt', 'noodles.txt', 'pasta.txt', 'pizza.txt', 'queen elizabeth.txt', 'shinzo abe.txt', 'table tennis.txt', 'tipu sultan.txt']\n",
    "docs = []\n",
    "for file in files_name:\n",
    "    docs.append(open('utils/lda_sports_politics_food//' + file, 'r').readlines()[0])\n",
    "df = pd.DataFrame(data=docs[:], columns=['documents'])\n",
    "df"
   ]
  },
  {
   "cell_type": "markdown",
   "metadata": {
    "pycharm": {
     "name": "#%% md\n"
    }
   },
   "source": [
    "Effettuiamo preprocessing."
   ]
  },
  {
   "cell_type": "code",
   "execution_count": 339,
   "metadata": {
    "pycharm": {
     "name": "#%%\n"
    }
   },
   "outputs": [],
   "source": [
    "stopwords = []\n",
    "for line in open(\"utils/stop_words_FULL.txt\", 'r').readlines():\n",
    "    stopwords.append(line.rstrip('\\n'))\n",
    "stopwords = np.array(stopwords)\n",
    "\n",
    "\n",
    "def preprocessing(s):\n",
    "    \"\"\"\n",
    "    Do some preprocessing operations on the string.\n",
    "\n",
    "    :param s: the string\n",
    "\n",
    "    :return: the preprocessed string\n",
    "    \"\"\"\n",
    "    # Lowercasing\n",
    "    s = s.lower()\n",
    "    # Punct removal\n",
    "    s = s.translate(str.maketrans('', '', string.punctuation))\n",
    "    # Stopword removal\n",
    "    s = ' '.join([word for word in s.split() if word not in stopwords])\n",
    "    return s"
   ]
  },
  {
   "cell_type": "code",
   "execution_count": 340,
   "metadata": {
    "pycharm": {
     "name": "#%%\n"
    }
   },
   "outputs": [
    {
     "data": {
      "text/plain": "                                            documents\n0   [badminton, racquet, sport, played, racquets, ...\n1   [barack, hussein, obama, ii, born, august, 4, ...\n2   [baseball, batandball, game, played, teams, pl...\n3   [cricket, batandball, game, played, teams, ele...\n4   [dosa, kind, pancake, fermented, batter, main,...\n5   [idli, traditional, breakfast, south, indian, ...\n6   [lee, kuan, yew, gcmg, ch, spmj, born, harry, ...\n7   [narendra, damodardas, modi, born, 17, septemb...\n8   [noodles, staple, food, cultures, unleavened, ...\n9   [pasta, staple, food, traditional, italian, cu...\n10  [pizza, flatbread, generally, topped, tomato, ...\n11  [elizabeth, ii, elizabeth, alexandra, mary, bo...\n12  [shinzō, abe, abe, shinzō, ipa, born, 21, sept...\n13  [table, tennis, ping, pong, sport, players, hi...\n14  [tipu, sultan, 20, november, 1750, 4, 1799, sa...",
      "text/html": "<div>\n<style scoped>\n    .dataframe tbody tr th:only-of-type {\n        vertical-align: middle;\n    }\n\n    .dataframe tbody tr th {\n        vertical-align: top;\n    }\n\n    .dataframe thead th {\n        text-align: right;\n    }\n</style>\n<table border=\"1\" class=\"dataframe\">\n  <thead>\n    <tr style=\"text-align: right;\">\n      <th></th>\n      <th>documents</th>\n    </tr>\n  </thead>\n  <tbody>\n    <tr>\n      <th>0</th>\n      <td>[badminton, racquet, sport, played, racquets, ...</td>\n    </tr>\n    <tr>\n      <th>1</th>\n      <td>[barack, hussein, obama, ii, born, august, 4, ...</td>\n    </tr>\n    <tr>\n      <th>2</th>\n      <td>[baseball, batandball, game, played, teams, pl...</td>\n    </tr>\n    <tr>\n      <th>3</th>\n      <td>[cricket, batandball, game, played, teams, ele...</td>\n    </tr>\n    <tr>\n      <th>4</th>\n      <td>[dosa, kind, pancake, fermented, batter, main,...</td>\n    </tr>\n    <tr>\n      <th>5</th>\n      <td>[idli, traditional, breakfast, south, indian, ...</td>\n    </tr>\n    <tr>\n      <th>6</th>\n      <td>[lee, kuan, yew, gcmg, ch, spmj, born, harry, ...</td>\n    </tr>\n    <tr>\n      <th>7</th>\n      <td>[narendra, damodardas, modi, born, 17, septemb...</td>\n    </tr>\n    <tr>\n      <th>8</th>\n      <td>[noodles, staple, food, cultures, unleavened, ...</td>\n    </tr>\n    <tr>\n      <th>9</th>\n      <td>[pasta, staple, food, traditional, italian, cu...</td>\n    </tr>\n    <tr>\n      <th>10</th>\n      <td>[pizza, flatbread, generally, topped, tomato, ...</td>\n    </tr>\n    <tr>\n      <th>11</th>\n      <td>[elizabeth, ii, elizabeth, alexandra, mary, bo...</td>\n    </tr>\n    <tr>\n      <th>12</th>\n      <td>[shinzō, abe, abe, shinzō, ipa, born, 21, sept...</td>\n    </tr>\n    <tr>\n      <th>13</th>\n      <td>[table, tennis, ping, pong, sport, players, hi...</td>\n    </tr>\n    <tr>\n      <th>14</th>\n      <td>[tipu, sultan, 20, november, 1750, 4, 1799, sa...</td>\n    </tr>\n  </tbody>\n</table>\n</div>"
     },
     "execution_count": 340,
     "metadata": {},
     "output_type": "execute_result"
    }
   ],
   "source": [
    "vect_preprocessing = np.vectorize(preprocessing) # vettorizziamo la funzione in modo da applicarla a tutto l'array di frasi in maniera efficiente\n",
    "df['documents'] = vect_preprocessing(df['documents'])\n",
    "df['documents'] = df['documents'].apply(lambda x: x.split()) # dividiamo le frasi in liste di parole così da averle già pronte per il modello\n",
    "df"
   ]
  },
  {
   "cell_type": "markdown",
   "source": [
    "Costruiamo il modello per il task di __topic modeling__, scegliamo quello utilizzante la _Latent Dirichlet Allocation_, sistema basato sulla statistica bayesiana in cui ogni parola ha una certa probabilità di comparire in un singolo topic."
   ],
   "metadata": {
    "collapsed": false,
    "pycharm": {
     "name": "#%% md\n"
    }
   }
  },
  {
   "cell_type": "code",
   "execution_count": 344,
   "metadata": {
    "pycharm": {
     "name": "#%%\n"
    }
   },
   "outputs": [
    {
     "data": {
      "text/plain": "[(0,\n  '0.020*\"ball\" + 0.020*\"table\" + 0.014*\"pizza\" + 0.011*\"return\" + 0.011*\"players\" + 0.010*\"side\" + 0.010*\"rules\" + 0.007*\"fast\" + 0.007*\"generally\" + 0.007*\"serve\"'),\n (1,\n  '0.031*\"abe\" + 0.019*\"minister\" + 0.018*\"prime\" + 0.014*\"father\" + 0.014*\"war\" + 0.012*\"september\" + 0.011*\"born\" + 0.010*\"kingdom\" + 0.009*\"election\" + 0.009*\"elizabeth\"'),\n (2,\n  '0.033*\"tipu\" + 0.019*\"mysore\" + 0.015*\"sultan\" + 0.011*\"ali\" + 0.011*\"french\" + 0.011*\"british\" + 0.011*\"pasta\" + 0.009*\"shapes\" + 0.008*\"second\" + 0.008*\"anglomysore\"')]"
     },
     "execution_count": 344,
     "metadata": {},
     "output_type": "execute_result"
    }
   ],
   "source": [
    "# creiamo un dizionario a partire dalla lista di parole ottenuta dai documenti del corpus\n",
    "# la classe Dictionary() di gensim genera un dizionario inizializzato con le parole\n",
    "dictionary = Dictionary(df['documents'])\n",
    "\n",
    "# dalle parole passiamo ai valori delle loro occorrenze nel testo\n",
    "corpus = [dictionary.doc2bow(text) for text in df['documents']] # lista di coppie (id parola, numero di occorrenze)\n",
    "\n",
    "# alleniamo il modello\n",
    "lda_model = LdaModel(corpus=corpus, # le occorrenze\n",
    "                     id2word=dictionary, # le parole\n",
    "                     num_topics=3, # il numero di topics che vogliamo ottenere\n",
    "                     random_state=27, # per la riproducibilità degli esperimenti\n",
    "                     update_every=1, # numero di documenti per ogni iterazione prima di aggiornare il modello\n",
    "                     chunksize=1, # numero di documenti da usare ad ogni iterazione\n",
    "                     alpha=\"auto\") # credenza a priori sulla distribuzione dei topic, con \"auto\" la impara da solo\n",
    "\n",
    "lda_model.show_topics() # abbiamo una lista di parole con le rispettive probabilità di appartenere a quel topic"
   ]
  },
  {
   "cell_type": "markdown",
   "source": [
    "## Visualizzazione dei risultati"
   ],
   "metadata": {
    "collapsed": false,
    "pycharm": {
     "name": "#%% md\n"
    }
   }
  },
  {
   "cell_type": "markdown",
   "source": [
    "Per valutare la bontà del modello usiamo due misure:\n",
    "- la __perplexity__, fornisce informazione su quanto il modello è incerto nel processare nuovi dati. Viene calcolata con la log-likelihood sul test set.\n",
    "- la __choerence__, misura il grado di coerenza fra le parole di un topic. Viene calcolata guardando alla similarità semantica fra le parole con la più alta probabilità del topic"
   ],
   "metadata": {
    "collapsed": false,
    "pycharm": {
     "name": "#%% md\n"
    }
   }
  },
  {
   "cell_type": "code",
   "execution_count": 342,
   "outputs": [
    {
     "name": "stdout",
     "output_type": "stream",
     "text": [
      "\n",
      "Perplexity:  -7.555826722110876\n",
      "Coherence Score:  0.6058535509700912\n"
     ]
    }
   ],
   "source": [
    "# Compute Perplexity\n",
    "print('\\nPerplexity: ', lda_model.log_perplexity(corpus))\n",
    "# a measure of how good the model is. lower the better.\n",
    "\n",
    "# Compute Coherence Score\n",
    "coherence_model_lda = CoherenceModel(model=lda_model, texts=df['documents'], dictionary=dictionary, coherence='c_v')\n",
    "coherence_lda = coherence_model_lda.get_coherence()\n",
    "print('Coherence Score: ', coherence_lda)"
   ],
   "metadata": {
    "collapsed": false,
    "pycharm": {
     "name": "#%%\n"
    }
   }
  },
  {
   "cell_type": "markdown",
   "source": [
    "Per la visualizzazione dei risultati è stata usata la libreria __pyLDAvis__ (<https://github.com/bmabey/pyLDAvis>) che fornisce una comoda interfaccia interattiva per la visualizzazione dei cluster e delle loro parole rilevanti."
   ],
   "metadata": {
    "collapsed": false,
    "pycharm": {
     "name": "#%% md\n"
    }
   }
  },
  {
   "cell_type": "code",
   "execution_count": 343,
   "metadata": {
    "pycharm": {
     "name": "#%%\n"
    }
   },
   "outputs": [
    {
     "name": "stderr",
     "output_type": "stream",
     "text": [
      "/home/pietro/Scrivania/python venv/venv/lib/python3.8/site-packages/pyLDAvis/_prepare.py:246: FutureWarning: In a future version of pandas all arguments of DataFrame.drop except for the argument 'labels' will be keyword-only\n",
      "  default_term_info = default_term_info.sort_values(\n"
     ]
    },
    {
     "data": {
      "text/plain": "PreparedData(topic_coordinates=              x         y  topics  cluster       Freq\ntopic                                                \n1      0.090301  0.098243       1        1  36.862922\n2     -0.150210  0.014210       2        1  32.902918\n0      0.059909 -0.112454       3        1  30.234160, topic_info=           Term       Freq      Total Category  logprob  loglift\n863        tipu  16.000000  16.000000  Default  30.0000  30.0000\n697         abe  16.000000  16.000000  Default  29.0000  29.0000\n138        ball   8.000000   8.000000  Default  28.0000  28.0000\n770       table   8.000000   8.000000  Default  27.0000  27.0000\n354    minister  10.000000  10.000000  Default  26.0000  26.0000\n..          ...        ...        ...      ...      ...      ...\n177   opponents   2.207372   2.571959   Topic3  -5.1974   1.0433\n182        play   2.207372   2.571959   Topic3  -5.1974   1.0433\n595  neapolitan   2.244851   2.921575   Topic3  -5.1806   0.9327\n521     divided   2.179418   2.933068   Topic3  -5.2101   0.8992\n443        time   2.178500   3.796582   Topic3  -5.2106   0.6407\n\n[139 rows x 6 columns], token_table=      Topic      Freq  Term\nterm                       \n622       1  1.034397    12\n774       2  0.861641  1750\n775       1  0.245221  1782\n775       2  0.735664  1782\n776       2  0.861641  1784\n...     ...       ...   ...\n443       1  0.263395  time\n443       3  0.526790  time\n863       1  0.122134  tipu\n863       2  0.854936  tipu\n690       1  0.951372   war\n\n[135 rows x 3 columns], R=30, lambda_step=0.01, plot_opts={'xlab': 'PC1', 'ylab': 'PC2'}, topic_order=[2, 3, 1])",
      "text/html": "\n<link rel=\"stylesheet\" type=\"text/css\" href=\"https://cdn.jsdelivr.net/gh/bmabey/pyLDAvis@3.3.1/pyLDAvis/js/ldavis.v1.0.0.css\">\n\n\n<div id=\"ldavis_el28341401162665251848533609972\"></div>\n<script type=\"text/javascript\">\n\nvar ldavis_el28341401162665251848533609972_data = {\"mdsDat\": {\"x\": [0.09030115528592288, -0.15021004825827963, 0.059908892972356804], \"y\": [0.09824349984073671, 0.014210247778114702, -0.11245374761885144], \"topics\": [1, 2, 3], \"cluster\": [1, 1, 1], \"Freq\": [36.86292158451782, 32.90291815616633, 30.23416025931585]}, \"tinfo\": {\"Term\": [\"tipu\", \"abe\", \"ball\", \"table\", \"minister\", \"mysore\", \"prime\", \"sultan\", \"war\", \"pizza\", \"players\", \"side\", \"rules\", \"born\", \"pasta\", \"september\", \"french\", \"ali\", \"british\", \"father\", \"election\", \"return\", \"elizabeth\", \"shapes\", \"kingdom\", \"generally\", \"fast\", \"serve\", \"2012\", \"general\", \"born\", \"election\", \"elizabeth\", \"prime\", \"minister\", \"war\", \"abe\", \"general\", \"office\", \"september\", \"queen\", \"saint\", \"ii\", \"12\", \"21\", \"party\", \"accession\", \"duke\", \"edward\", \"2012\", \"2007\", \"2014\", \"national\", \"current\", \"2006\", \"ldp\", \"reelected\", \"shigeru\", \"shinz\\u014d\", \"26\", \"father\", \"kingdom\", \"december\", \"pasta\", \"tipu\", \"mysore\", \"sultan\", \"ali\", \"british\", \"french\", \"fresh\", \"number\", \"shapes\", \"1782\", \"1799\", \"alliance\", \"anglomysore\", \"hyder\", \"rockets\", \"second\", \"including\", \"names\", \"produced\", \"commonly\", \"italy\", \"food\", \"1750\", \"1784\", \"1792\", \"administrative\", \"allies\", \"arabian\", \"army\", \"artillery\", \"bednore\", \"bordered\", \"calendar\", \"cancer\", \"north\", \"advances\", \"ball\", \"table\", \"players\", \"side\", \"rules\", \"played\", \"game\", \"serve\", \"scored\", \"player\", \"net\", \"hit\", \"sport\", \"advantage\", \"allow\", \"alters\", \"bounce\", \"bounces\", \"demands\", \"fails\", \"great\", \"hard\", \"hitter\", \"initial\", \"lightweight\", \"limits\", \"opposite\", \"options\", \"paddle\", \"ping\", \"fast\", \"generally\", \"pizza\", \"return\", \"opponents\", \"play\", \"neapolitan\", \"divided\", \"time\"], \"Freq\": [16.0, 16.0, 8.0, 8.0, 10.0, 9.0, 9.0, 7.0, 7.0, 6.0, 4.0, 4.0, 4.0, 5.0, 5.0, 6.0, 5.0, 5.0, 5.0, 8.0, 4.0, 5.0, 4.0, 4.0, 5.0, 3.0, 3.0, 3.0, 4.0, 3.0, 5.372418996762481, 4.487416070310057, 4.196858000719365, 8.68891546659865, 9.351960711907797, 6.650825288398082, 15.020529477140945, 3.4172680468068224, 3.4172680468068224, 5.745022637884304, 3.1967972255407817, 3.1967972255407817, 2.5446342446820953, 2.529289814495215, 2.529289814495215, 2.4714314335241654, 2.196736223775811, 2.196736223775811, 2.196736223775811, 3.9025934309958163, 2.756673106696152, 2.276857623701109, 1.8277323605981537, 1.811647332802505, 2.6672675561140724, 2.6672675561140724, 2.6672675561140724, 2.6672675561140724, 2.6672675561140724, 1.7748128831236107, 6.770239033844746, 4.815285667219314, 3.3197171687534204, 4.64814351817703, 14.476645586214724, 8.10832553147198, 6.516245113295653, 4.924164290628687, 4.924164290628687, 4.924164290628687, 2.3353495648730447, 2.2914435215973805, 3.763169772237605, 3.332084681433641, 3.332084681433641, 3.332084681433641, 3.332084681433641, 3.332084681433641, 3.332084681433641, 3.332452161180256, 1.8096888995230922, 1.3752564464262143, 1.3752564464262143, 1.6196145005448757, 1.6196145005448757, 1.4419245937427556, 1.7400042632573145, 1.7400042632573145, 1.7400042632573145, 1.7400042632573145, 1.7400042632573145, 1.7400042632573145, 1.7400042632573145, 1.7400042632573145, 1.7400042632573145, 1.7400042632573145, 1.7400042632573145, 1.7400042632573145, 1.9157637384791155, 1.7402148006355347, 8.091878451142879, 8.052293534600256, 4.2388535298391306, 4.151783959507665, 4.136056219714036, 2.2994609739269816, 2.2780857062521216, 2.7478613814676334, 2.2200575384676298, 2.22002092775347, 2.18542882058454, 2.1853875638406643, 2.1853730682279515, 2.177937748112114, 2.177937748112114, 2.177937748112114, 2.177937748112114, 2.177937748112114, 2.177937748112114, 2.177937748112114, 2.177937748112114, 2.177937748112114, 2.177937748112114, 2.177937748112114, 2.177937748112114, 2.177937748112114, 2.177937748112114, 2.177937748112114, 2.177937748112114, 2.177937748112114, 2.855862430715515, 2.855862430715515, 5.619903331906333, 4.247654225167822, 2.2073716472494715, 2.2073716472494715, 2.2448506114425566, 2.1794176014971627, 2.178499546025338], \"Total\": [16.0, 16.0, 8.0, 8.0, 10.0, 9.0, 9.0, 7.0, 7.0, 6.0, 4.0, 4.0, 4.0, 5.0, 5.0, 6.0, 5.0, 5.0, 5.0, 8.0, 4.0, 5.0, 4.0, 4.0, 5.0, 3.0, 3.0, 3.0, 4.0, 3.0, 5.754988400947357, 4.874010361538841, 4.572239574710386, 9.560602960659471, 10.319431456752124, 7.357793199409242, 16.668824042187495, 3.8006040033208106, 3.8006040033208106, 6.399573982574912, 3.5702692116281987, 3.5702692116281987, 2.915889408192278, 2.9002413971017873, 2.9002413971017873, 2.8724010050819597, 2.5682986093192914, 2.5682986093192914, 2.5682986093192914, 4.590474469054151, 3.25713858653785, 2.7109046090406745, 2.2057263862201824, 2.1901736662264133, 3.248435956604622, 3.248435956604622, 3.248435956604622, 3.248435956604622, 3.248435956604622, 2.16945176334232, 8.29223003740214, 5.89868765710867, 4.092110534443192, 5.079625558845236, 16.375502485936007, 9.348328014421053, 7.591533850435182, 5.834739338605267, 5.834739338605267, 5.834739338605267, 2.771748661798038, 2.743764252260873, 4.569596957451245, 4.0779460968938706, 4.0779460968938706, 4.0779460968938706, 4.0779460968938706, 4.0779460968938706, 4.0779460968938706, 4.1111971431783365, 2.3542825113371535, 1.7957945317975739, 1.7957945317975739, 2.1245927849607087, 2.1245927849607087, 1.9126076872416078, 2.321152017877894, 2.321152017877894, 2.321152017877894, 2.321152017877894, 2.321152017877894, 2.321152017877894, 2.321152017877894, 2.321152017877894, 2.321152017877894, 2.321152017877894, 2.321152017877894, 2.321152017877894, 3.081418769823072, 2.354449568046979, 8.436483827562611, 8.396832552739843, 4.583699381472811, 4.496593341659606, 4.480595237853623, 2.6446414518627286, 2.6231022510346538, 3.1683893244206884, 2.5647378682136193, 2.564727374530799, 2.530096041969958, 2.5300814994841434, 2.5300747273149726, 2.522476766251701, 2.522476766251701, 2.522476766251701, 2.522476766251701, 2.522476766251701, 2.522476766251701, 2.522476766251701, 2.522476766251701, 2.522476766251701, 2.522476766251701, 2.522476766251701, 2.522476766251701, 2.522476766251701, 2.522476766251701, 2.522476766251701, 2.522476766251701, 2.522476766251701, 3.3111298472315935, 3.3111298472315935, 6.850269579542802, 5.827519412541154, 2.571959484136521, 2.571959484136521, 2.921574853034917, 2.9330675036056015, 3.796582310767205], \"Category\": [\"Default\", \"Default\", \"Default\", \"Default\", \"Default\", \"Default\", \"Default\", \"Default\", \"Default\", \"Default\", \"Default\", \"Default\", \"Default\", \"Default\", \"Default\", \"Default\", \"Default\", \"Default\", \"Default\", \"Default\", \"Default\", \"Default\", \"Default\", \"Default\", \"Default\", \"Default\", \"Default\", \"Default\", \"Default\", \"Default\", \"Topic1\", \"Topic1\", \"Topic1\", \"Topic1\", \"Topic1\", \"Topic1\", \"Topic1\", \"Topic1\", \"Topic1\", \"Topic1\", \"Topic1\", \"Topic1\", \"Topic1\", \"Topic1\", \"Topic1\", \"Topic1\", \"Topic1\", \"Topic1\", \"Topic1\", \"Topic1\", \"Topic1\", \"Topic1\", \"Topic1\", \"Topic1\", \"Topic1\", \"Topic1\", \"Topic1\", \"Topic1\", \"Topic1\", \"Topic1\", \"Topic1\", \"Topic1\", \"Topic1\", \"Topic2\", \"Topic2\", \"Topic2\", \"Topic2\", \"Topic2\", \"Topic2\", \"Topic2\", \"Topic2\", \"Topic2\", \"Topic2\", \"Topic2\", \"Topic2\", \"Topic2\", \"Topic2\", \"Topic2\", \"Topic2\", \"Topic2\", \"Topic2\", \"Topic2\", \"Topic2\", \"Topic2\", \"Topic2\", \"Topic2\", \"Topic2\", \"Topic2\", \"Topic2\", \"Topic2\", \"Topic2\", \"Topic2\", \"Topic2\", \"Topic2\", \"Topic2\", \"Topic2\", \"Topic2\", \"Topic2\", \"Topic2\", \"Topic2\", \"Topic3\", \"Topic3\", \"Topic3\", \"Topic3\", \"Topic3\", \"Topic3\", \"Topic3\", \"Topic3\", \"Topic3\", \"Topic3\", \"Topic3\", \"Topic3\", \"Topic3\", \"Topic3\", \"Topic3\", \"Topic3\", \"Topic3\", \"Topic3\", \"Topic3\", \"Topic3\", \"Topic3\", \"Topic3\", \"Topic3\", \"Topic3\", \"Topic3\", \"Topic3\", \"Topic3\", \"Topic3\", \"Topic3\", \"Topic3\", \"Topic3\", \"Topic3\", \"Topic3\", \"Topic3\", \"Topic3\", \"Topic3\", \"Topic3\", \"Topic3\", \"Topic3\"], \"logprob\": [30.0, 29.0, 28.0, 27.0, 26.0, 25.0, 24.0, 23.0, 22.0, 21.0, 20.0, 19.0, 18.0, 17.0, 16.0, 15.0, 14.0, 13.0, 12.0, 11.0, 10.0, 9.0, 8.0, 7.0, 6.0, 5.0, 4.0, 3.0, 2.0, 1.0, -4.5061, -4.6861, -4.7531, -4.0254, -3.9518, -4.2927, -3.478, -4.9586, -4.9586, -4.4391, -5.0253, -5.0253, -5.2534, -5.2595, -5.2595, -5.2826, -5.4005, -5.4005, -5.4005, -4.8258, -5.1734, -5.3646, -5.5843, -5.5932, -5.2064, -5.2064, -5.2064, -5.2064, -5.2064, -5.6137, -4.2749, -4.6156, -4.9875, -4.5373, -3.4012, -3.9809, -4.1995, -4.4796, -4.4796, -4.4796, -5.2256, -5.2446, -4.7485, -4.8702, -4.8702, -4.8702, -4.8702, -4.8702, -4.8702, -4.8701, -5.4806, -5.7551, -5.7551, -5.5916, -5.5916, -5.7078, -5.5199, -5.5199, -5.5199, -5.5199, -5.5199, -5.5199, -5.5199, -5.5199, -5.5199, -5.5199, -5.5199, -5.5199, -5.4237, -5.5198, -3.8983, -3.9032, -4.5449, -4.5657, -4.5694, -5.1565, -5.1659, -4.9784, -5.1917, -5.1917, -5.2074, -5.2074, -5.2074, -5.2108, -5.2108, -5.2108, -5.2108, -5.2108, -5.2108, -5.2108, -5.2108, -5.2108, -5.2108, -5.2108, -5.2108, -5.2108, -5.2108, -5.2108, -5.2108, -5.2108, -4.9398, -4.9398, -4.2629, -4.5428, -5.1974, -5.1974, -5.1806, -5.2101, -5.2106], \"loglift\": [30.0, 29.0, 28.0, 27.0, 26.0, 25.0, 24.0, 23.0, 22.0, 21.0, 20.0, 19.0, 18.0, 17.0, 16.0, 15.0, 14.0, 13.0, 12.0, 11.0, 10.0, 9.0, 8.0, 7.0, 6.0, 5.0, 4.0, 3.0, 2.0, 1.0, 0.9292, 0.9153, 0.9123, 0.9024, 0.8995, 0.8969, 0.8938, 0.8916, 0.8916, 0.8901, 0.8875, 0.8875, 0.8618, 0.8611, 0.8611, 0.8476, 0.8417, 0.8417, 0.8417, 0.8356, 0.8311, 0.8235, 0.81, 0.8082, 0.8008, 0.8008, 0.8008, 0.8008, 0.8008, 0.7972, 0.7952, 0.795, 0.7888, 1.0228, 0.9884, 0.9693, 0.9589, 0.9419, 0.9419, 0.9419, 0.9403, 0.9315, 0.9174, 0.9096, 0.9096, 0.9096, 0.9096, 0.9096, 0.9096, 0.9016, 0.8485, 0.8448, 0.8448, 0.8402, 0.8402, 0.8291, 0.8234, 0.8234, 0.8234, 0.8234, 0.8234, 0.8234, 0.8234, 0.8234, 0.8234, 0.8234, 0.8234, 0.8234, 0.6363, 0.8093, 1.1545, 1.1543, 1.118, 1.1164, 1.1162, 1.0563, 1.0552, 1.0538, 1.0519, 1.0519, 1.0498, 1.0497, 1.0497, 1.0493, 1.0493, 1.0493, 1.0493, 1.0493, 1.0493, 1.0493, 1.0493, 1.0493, 1.0493, 1.0493, 1.0493, 1.0493, 1.0493, 1.0493, 1.0493, 1.0493, 1.0483, 1.0483, 0.9982, 0.88, 1.0433, 1.0433, 0.9327, 0.8992, 0.6407]}, \"token.table\": {\"Topic\": [1, 2, 1, 2, 2, 2, 1, 2, 1, 1, 1, 3, 1, 1, 1, 1, 3, 1, 2, 2, 3, 1, 2, 1, 2, 2, 3, 3, 1, 2, 2, 2, 2, 3, 2, 2, 1, 3, 3, 1, 2, 2, 2, 2, 1, 1, 3, 2, 3, 1, 1, 1, 1, 3, 3, 1, 2, 2, 1, 2, 2, 3, 1, 3, 3, 3, 3, 3, 1, 2, 1, 2, 3, 2, 1, 2, 1, 3, 3, 1, 3, 1, 2, 2, 1, 3, 3, 2, 3, 2, 1, 3, 3, 3, 3, 1, 2, 3, 2, 3, 3, 3, 3, 3, 1, 3, 2, 1, 1, 1, 3, 1, 2, 3, 1, 3, 1, 2, 1, 3, 3, 2, 3, 1, 1, 3, 3, 1, 2, 3, 1, 3, 1, 2, 1], \"Freq\": [1.0343966550501285, 0.8616411094989348, 0.245221485581109, 0.735664456743327, 0.8616411094989348, 0.8616411094989348, 0.245221485581109, 0.735664456743327, 0.9235213623037544, 0.9210538392192966, 0.8713696213681773, 0.21784240534204433, 0.7377611124088033, 1.0343966550501285, 0.9218918962820092, 0.8998835167997555, 0.11998446890663407, 0.7787256484673661, 0.8616411094989348, 0.8494554426404658, 0.7928715248275288, 0.17138726204674629, 0.8569363102337314, 0.245221485581109, 0.735664456743327, 0.8616411094989348, 0.7928715248275288, 0.7928715248275288, 0.245221485581109, 0.735664456743327, 0.8616411094989348, 0.8616411094989348, 0.8616411094989348, 0.9482623523633642, 0.8616411094989348, 0.8616411094989348, 0.8688114817359015, 0.7928715248275288, 0.7928715248275288, 0.17138726204674629, 0.8569363102337314, 0.8616411094989348, 0.8616411094989348, 0.9413568633751089, 0.9131695951060925, 0.7331180266879584, 0.7928715248275288, 0.340939988176442, 0.681879976352884, 0.7787256484673661, 0.7787256484673661, 0.8206794207013349, 0.8748447964372837, 0.7928715248275288, 0.9060351416022762, 0.8441637494891566, 0.12059482135559381, 0.5228463770540499, 0.17138726204674629, 0.8569363102337314, 0.721566146153597, 0.7624559809710514, 0.7893482186985868, 0.9060351416022762, 0.7928715248275288, 0.7928715248275288, 0.7904883698046006, 0.7928715248275288, 0.245221485581109, 0.735664456743327, 1.0288456042164735, 0.8495157188523085, 0.7928715248275288, 0.9413568633751089, 0.847646169902616, 0.1695292339805232, 0.9235213623037544, 0.7928715248275288, 0.7928715248275288, 0.8721410707283874, 0.09690456341426527, 0.106971000424607, 0.855768003396856, 0.5568565792429545, 0.9067307769878371, 0.6845622996523297, 0.790483826235616, 0.6490516704793212, 0.3245258352396606, 0.7289255986012616, 0.7893482186985868, 0.7776172262182645, 0.7928715248275288, 0.7928715248275288, 0.7928715248275288, 0.6962816112588476, 0.9843245219706042, 0.7928715248275288, 0.1459796564775107, 0.8758779388650643, 0.7776172262182645, 0.7562461817239228, 0.7798099789713079, 0.872657577887392, 0.9413632212354939, 0.10459591347061044, 0.5568565792429545, 0.8402727699718389, 0.9235213623037544, 0.1715995999683747, 0.6863983998734988, 0.245221485581109, 0.735664456743327, 0.8927385286237445, 0.8402727699718389, 0.7798067883611949, 0.2432381530667506, 0.7297144592002518, 0.9375624090505255, 0.1562604015084209, 0.9468533355030551, 0.875350722885428, 0.218837680721357, 0.9235213623037544, 0.9235213623037544, 0.8895623188650804, 0.7904904856792465, 0.13172568544137828, 0.9220797980896479, 0.9527402088528777, 0.26339478987824766, 0.5267895797564953, 0.12213365676672742, 0.854935597367092, 0.9513722131470114], \"Term\": [\"12\", \"1750\", \"1782\", \"1782\", \"1784\", \"1792\", \"1799\", \"1799\", \"2006\", \"2007\", \"2012\", \"2012\", \"2014\", \"21\", \"26\", \"abe\", \"abe\", \"accession\", \"administrative\", \"advances\", \"advantage\", \"ali\", \"ali\", \"alliance\", \"alliance\", \"allies\", \"allow\", \"alters\", \"anglomysore\", \"anglomysore\", \"arabian\", \"army\", \"artillery\", \"ball\", \"bednore\", \"bordered\", \"born\", \"bounce\", \"bounces\", \"british\", \"british\", \"calendar\", \"cancer\", \"commonly\", \"current\", \"december\", \"demands\", \"divided\", \"divided\", \"duke\", \"edward\", \"election\", \"elizabeth\", \"fails\", \"fast\", \"father\", \"father\", \"food\", \"french\", \"french\", \"fresh\", \"game\", \"general\", \"generally\", \"great\", \"hard\", \"hit\", \"hitter\", \"hyder\", \"hyder\", \"ii\", \"including\", \"initial\", \"italy\", \"kingdom\", \"kingdom\", \"ldp\", \"lightweight\", \"limits\", \"minister\", \"minister\", \"mysore\", \"mysore\", \"names\", \"national\", \"neapolitan\", \"net\", \"north\", \"north\", \"number\", \"office\", \"opponents\", \"opposite\", \"options\", \"paddle\", \"party\", \"pasta\", \"ping\", \"pizza\", \"pizza\", \"play\", \"played\", \"player\", \"players\", \"prime\", \"prime\", \"produced\", \"queen\", \"reelected\", \"return\", \"return\", \"rockets\", \"rockets\", \"rules\", \"saint\", \"scored\", \"second\", \"second\", \"september\", \"september\", \"serve\", \"shapes\", \"shapes\", \"shigeru\", \"shinz\\u014d\", \"side\", \"sport\", \"sultan\", \"sultan\", \"table\", \"time\", \"time\", \"tipu\", \"tipu\", \"war\"]}, \"R\": 30, \"lambda.step\": 0.01, \"plot.opts\": {\"xlab\": \"PC1\", \"ylab\": \"PC2\"}, \"topic.order\": [2, 3, 1]};\n\nfunction LDAvis_load_lib(url, callback){\n  var s = document.createElement('script');\n  s.src = url;\n  s.async = true;\n  s.onreadystatechange = s.onload = callback;\n  s.onerror = function(){console.warn(\"failed to load library \" + url);};\n  document.getElementsByTagName(\"head\")[0].appendChild(s);\n}\n\nif(typeof(LDAvis) !== \"undefined\"){\n   // already loaded: just create the visualization\n   !function(LDAvis){\n       new LDAvis(\"#\" + \"ldavis_el28341401162665251848533609972\", ldavis_el28341401162665251848533609972_data);\n   }(LDAvis);\n}else if(typeof define === \"function\" && define.amd){\n   // require.js is available: use it to load d3/LDAvis\n   require.config({paths: {d3: \"https://d3js.org/d3.v5\"}});\n   require([\"d3\"], function(d3){\n      window.d3 = d3;\n      LDAvis_load_lib(\"https://cdn.jsdelivr.net/gh/bmabey/pyLDAvis@3.3.1/pyLDAvis/js/ldavis.v3.0.0.js\", function(){\n        new LDAvis(\"#\" + \"ldavis_el28341401162665251848533609972\", ldavis_el28341401162665251848533609972_data);\n      });\n    });\n}else{\n    // require.js not available: dynamically load d3 & LDAvis\n    LDAvis_load_lib(\"https://d3js.org/d3.v5.js\", function(){\n         LDAvis_load_lib(\"https://cdn.jsdelivr.net/gh/bmabey/pyLDAvis@3.3.1/pyLDAvis/js/ldavis.v3.0.0.js\", function(){\n                 new LDAvis(\"#\" + \"ldavis_el28341401162665251848533609972\", ldavis_el28341401162665251848533609972_data);\n            })\n         });\n}\n</script>"
     },
     "execution_count": 343,
     "metadata": {},
     "output_type": "execute_result"
    }
   ],
   "source": [
    "# Visualize the topics\n",
    "pyLDAvis.enable_notebook()\n",
    "vis = pgs.prepare(lda_model, corpus, dictionary)\n",
    "vis"
   ]
  },
  {
   "cell_type": "markdown",
   "source": [
    "Sono state effettuate diverse esecuzioni cambiando il numero di topics fra i parametri del modello.\n",
    "\n",
    "Come prima esecuzione è stato impostato __num_topics=3__ in quanto siamo a conoscenza dell'esistenza di 3 topic nel dataset.\n",
    "Il sistema riesce a riconoscere il cluster riguardante la _politica_ e quello riguardante gli _sport_ ma non sembra in grado di riconoscere quello sul _cibo_, mischiando parole dagli altri due cluster.\n",
    "\n",
    "Provando ad incrementare il numero di topics a __num_topics=5__ notiamo subito un miglioramento delle misure di valutazione ed anche i clusters dei topics sono più precisi.\n",
    "Il modello individua chiaramente i tre topics su _politica_, _cibo_ e _sport_, emerge inoltre un quarto topic in cui sono racchiuse parole relative alla _guerra_ mentre l'ultimo non sembra avere un significato preciso.\n"
   ],
   "metadata": {
    "collapsed": false,
    "pycharm": {
     "name": "#%% md\n"
    }
   }
  }
 ],
 "metadata": {
  "kernelspec": {
   "display_name": "Python 3 (ipykernel)",
   "language": "python",
   "name": "python3"
  },
  "language_info": {
   "codemirror_mode": {
    "name": "ipython",
    "version": 3
   },
   "file_extension": ".py",
   "mimetype": "text/x-python",
   "name": "python",
   "nbconvert_exporter": "python",
   "pygments_lexer": "ipython3",
   "version": "3.8.10"
  }
 },
 "nbformat": 4,
 "nbformat_minor": 1
}