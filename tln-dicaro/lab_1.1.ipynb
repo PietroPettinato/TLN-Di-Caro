{
 "cells": [
  {
   "cell_type": "markdown",
   "source": [
    "# Esercizio 1.1 - Similarity\n",
    "\n",
    "Calcolo della similarità fra i termini del file *defs.csv* ."
   ],
   "metadata": {
    "collapsed": false,
    "pycharm": {
     "name": "#%% md\n"
    }
   }
  },
  {
   "cell_type": "markdown",
   "source": [
    "Caricamento del file *defs.csv* ."
   ],
   "metadata": {
    "collapsed": false,
    "pycharm": {
     "name": "#%% md\n"
    }
   }
  },
  {
   "cell_type": "code",
   "execution_count": 68,
   "metadata": {
    "collapsed": true,
    "pycharm": {
     "name": "#%%\n"
    }
   },
   "outputs": [
    {
     "data": {
      "text/plain": "                                              Courage  \\\n0   property that allows you to face any situation...   \n1   Ability to face our own fears and do something...   \n2             the ability to face thing without fear    \n3   Inner strength that allow you to face particul...   \n4                         Ability to control the fear   \n5   Ability to control fear and to be willing to d...   \n6   Ability to avoid fear and to take on risky act...   \n7   Ability to make choices and take action withou...   \n8                  Being able to do something fearful   \n9   the ability to do something despite being frig...   \n10  the ability to do something that scares most p...   \n11  Feeling that allows us to face situations cons...   \n12      the ability to do something that may be scary   \n13             is the ability to make drastic choices   \n14                           ability to overcome fear   \n15       characteristic of a person who taking a risk   \n16  the quality of being able to do things which a...   \n17                         behavior typical of a hero   \n18               Ability to face difficult situations   \n19           ability to do something most people fear   \n20  Strength of mind that allows you to face diffi...   \n21                        Ability to face one's fears   \n22              The ability to not be blocked by fear   \n23  emotion that allows someone to go beyond its e...   \n24  Ability to perform a dangerous act despite the...   \n25  mental or moral strength to venture, persevere...   \n26  Ability to resist fear and not being scared in...   \n27                          ability to overcome fears   \n28  The ability of overcome your fear and face dif...   \n29  An aptitude of a human being, that makes him a...   \n\n                                                Paper  \\\n0   cellulose material that can be cut, folded and...   \n1   Material derived from trees and used in  sever...   \n2              a type of material made from cellulose   \n3   Product obtained from wood cellulose. It is us...   \n4       Flat material made from wood used for writing   \n5   a short piece of writing on a particular subje...   \n6    Material derived from trees and used to write on   \n7                Material obtained from trees' cortex   \n8   A material crafted from wood that can be used ...   \n9           thin object on which you can easily write   \n10  material made from wood or other materials, us...   \n11  Product composed of cellulose generally used f...   \n12                      a surface where you can write   \n13  is a material on which it is possible to write...   \n14                 material on which you can write on   \n15                       material obtained from trees   \n16  a material obtained from wood used generally t...   \n17                 a medium for written communication   \n18                         Something you can write on   \n19                    thin material made of cellulose   \n20                     Material composed of cellulose   \n21  Material obtained from wood used for multiple ...   \n22                        A material used for writing   \n23                     material available for writing   \n24                        Product of tree's cellulose   \n25  a felted sheet of usually vegetable fibers lai...   \n26         Material used for handwriting and printing   \n27                          material used for writing   \n28  Lightweight material used to write on it and e...   \n29  A kind of material on which, one can store and...   \n\n                                         Apprehension  \\\n0   something strange, which causes a strange feel...   \n1                 fearful expectation or anticipation   \n2                     A mood where one feel agitation   \n3                                State of disturbance   \n4                              Worry about the future   \n5   act of understanding something, or the way tha...   \n6   Non-relaxed state of mind derived from unaccom...   \n7                Sense of loss, sadness, fear and awe   \n8   Mental status that make a person feel uncomfor...   \n9            state of mind in which one is frightened   \n10  anxiety or fear that something bad or unexpect...   \n11                       Mental state of high anxiety   \n12  feeling of preoccupation about something or so...   \n13  is the emotional state of a person who feels fear   \n14              feeling that something bad can happen   \n15                       negative emotion of a person   \n16  a mental status characterized by anxiety and fear   \n17  ansia o paura che accada qualcosa di brutto o ...   \n18                          Constant fear and anxiety   \n19                      a feeling of fear and anxiety   \n20                 State of mind of upset and anxiety   \n21                  Mood of agitation and nervousness   \n22                                Pathway to Learning   \n23                                  feeling of unease   \n24  Anxiety or fear that something bad or unpleasa...   \n25  anxiety or fear that something bad or unpleasa...   \n26                     Feeling of fear and discomfort   \n27      anxiety that something unpleasant will happen   \n28  State of anxiety and fear about a particular s...   \n29  An emotion that makes who experiences it restl...   \n\n                                            Sharpener  \n0   tool equipped with a blade that allows you to ...  \n1                      Object used to shapen a pencil  \n2                       An object to sharpen a pencil  \n3                        Tool used to sharpen pencils  \n4       Little object which allow to sharpen a pencil  \n5                   tool for making something sharper  \n6                         Tool used to cut pencil tip  \n7                    Tool for making a mine sharpener  \n8           Tool that can be used to sharpen a pencil  \n9          object that allows you to sharpen a pencil  \n10  it is an object used to sharpen pencils, so th...  \n11            Tool with blade used to sharpen pencils  \n12                       tool for sharpening a pencil  \n13      is a tool with which you can sharpen a pencil  \n14                         tool for pencil sharpening  \n15         object that allows you to sharpen a pencil  \n16                     a tool used to sharpen pencils  \n17      a person or device that makes something sharp  \n18              Object you can use to sharpen pencils  \n19                     object used to sharpen pencils  \n20          Stationery object used to smooth graphite  \n21                       Tool used to sharpen pencils  \n22     An object used to sharpen the lead of pencils.  \n23     object for returning a pencil to working order  \n24                  Sharp tool to make a pencil sharp  \n25      a person or device that makes something sharp  \n26  Tool used for creating a refined edge to the e...  \n27                      tool used to sharpen a pencil  \n28  Object used to use the mine of a pencil to wri...  \n29   A tool used to make the mark of a pencil clearer  ",
      "text/html": "<div>\n<style scoped>\n    .dataframe tbody tr th:only-of-type {\n        vertical-align: middle;\n    }\n\n    .dataframe tbody tr th {\n        vertical-align: top;\n    }\n\n    .dataframe thead th {\n        text-align: right;\n    }\n</style>\n<table border=\"1\" class=\"dataframe\">\n  <thead>\n    <tr style=\"text-align: right;\">\n      <th></th>\n      <th>Courage</th>\n      <th>Paper</th>\n      <th>Apprehension</th>\n      <th>Sharpener</th>\n    </tr>\n  </thead>\n  <tbody>\n    <tr>\n      <th>0</th>\n      <td>property that allows you to face any situation...</td>\n      <td>cellulose material that can be cut, folded and...</td>\n      <td>something strange, which causes a strange feel...</td>\n      <td>tool equipped with a blade that allows you to ...</td>\n    </tr>\n    <tr>\n      <th>1</th>\n      <td>Ability to face our own fears and do something...</td>\n      <td>Material derived from trees and used in  sever...</td>\n      <td>fearful expectation or anticipation</td>\n      <td>Object used to shapen a pencil</td>\n    </tr>\n    <tr>\n      <th>2</th>\n      <td>the ability to face thing without fear</td>\n      <td>a type of material made from cellulose</td>\n      <td>A mood where one feel agitation</td>\n      <td>An object to sharpen a pencil</td>\n    </tr>\n    <tr>\n      <th>3</th>\n      <td>Inner strength that allow you to face particul...</td>\n      <td>Product obtained from wood cellulose. It is us...</td>\n      <td>State of disturbance</td>\n      <td>Tool used to sharpen pencils</td>\n    </tr>\n    <tr>\n      <th>4</th>\n      <td>Ability to control the fear</td>\n      <td>Flat material made from wood used for writing</td>\n      <td>Worry about the future</td>\n      <td>Little object which allow to sharpen a pencil</td>\n    </tr>\n    <tr>\n      <th>5</th>\n      <td>Ability to control fear and to be willing to d...</td>\n      <td>a short piece of writing on a particular subje...</td>\n      <td>act of understanding something, or the way tha...</td>\n      <td>tool for making something sharper</td>\n    </tr>\n    <tr>\n      <th>6</th>\n      <td>Ability to avoid fear and to take on risky act...</td>\n      <td>Material derived from trees and used to write on</td>\n      <td>Non-relaxed state of mind derived from unaccom...</td>\n      <td>Tool used to cut pencil tip</td>\n    </tr>\n    <tr>\n      <th>7</th>\n      <td>Ability to make choices and take action withou...</td>\n      <td>Material obtained from trees' cortex</td>\n      <td>Sense of loss, sadness, fear and awe</td>\n      <td>Tool for making a mine sharpener</td>\n    </tr>\n    <tr>\n      <th>8</th>\n      <td>Being able to do something fearful</td>\n      <td>A material crafted from wood that can be used ...</td>\n      <td>Mental status that make a person feel uncomfor...</td>\n      <td>Tool that can be used to sharpen a pencil</td>\n    </tr>\n    <tr>\n      <th>9</th>\n      <td>the ability to do something despite being frig...</td>\n      <td>thin object on which you can easily write</td>\n      <td>state of mind in which one is frightened</td>\n      <td>object that allows you to sharpen a pencil</td>\n    </tr>\n    <tr>\n      <th>10</th>\n      <td>the ability to do something that scares most p...</td>\n      <td>material made from wood or other materials, us...</td>\n      <td>anxiety or fear that something bad or unexpect...</td>\n      <td>it is an object used to sharpen pencils, so th...</td>\n    </tr>\n    <tr>\n      <th>11</th>\n      <td>Feeling that allows us to face situations cons...</td>\n      <td>Product composed of cellulose generally used f...</td>\n      <td>Mental state of high anxiety</td>\n      <td>Tool with blade used to sharpen pencils</td>\n    </tr>\n    <tr>\n      <th>12</th>\n      <td>the ability to do something that may be scary</td>\n      <td>a surface where you can write</td>\n      <td>feeling of preoccupation about something or so...</td>\n      <td>tool for sharpening a pencil</td>\n    </tr>\n    <tr>\n      <th>13</th>\n      <td>is the ability to make drastic choices</td>\n      <td>is a material on which it is possible to write...</td>\n      <td>is the emotional state of a person who feels fear</td>\n      <td>is a tool with which you can sharpen a pencil</td>\n    </tr>\n    <tr>\n      <th>14</th>\n      <td>ability to overcome fear</td>\n      <td>material on which you can write on</td>\n      <td>feeling that something bad can happen</td>\n      <td>tool for pencil sharpening</td>\n    </tr>\n    <tr>\n      <th>15</th>\n      <td>characteristic of a person who taking a risk</td>\n      <td>material obtained from trees</td>\n      <td>negative emotion of a person</td>\n      <td>object that allows you to sharpen a pencil</td>\n    </tr>\n    <tr>\n      <th>16</th>\n      <td>the quality of being able to do things which a...</td>\n      <td>a material obtained from wood used generally t...</td>\n      <td>a mental status characterized by anxiety and fear</td>\n      <td>a tool used to sharpen pencils</td>\n    </tr>\n    <tr>\n      <th>17</th>\n      <td>behavior typical of a hero</td>\n      <td>a medium for written communication</td>\n      <td>ansia o paura che accada qualcosa di brutto o ...</td>\n      <td>a person or device that makes something sharp</td>\n    </tr>\n    <tr>\n      <th>18</th>\n      <td>Ability to face difficult situations</td>\n      <td>Something you can write on</td>\n      <td>Constant fear and anxiety</td>\n      <td>Object you can use to sharpen pencils</td>\n    </tr>\n    <tr>\n      <th>19</th>\n      <td>ability to do something most people fear</td>\n      <td>thin material made of cellulose</td>\n      <td>a feeling of fear and anxiety</td>\n      <td>object used to sharpen pencils</td>\n    </tr>\n    <tr>\n      <th>20</th>\n      <td>Strength of mind that allows you to face diffi...</td>\n      <td>Material composed of cellulose</td>\n      <td>State of mind of upset and anxiety</td>\n      <td>Stationery object used to smooth graphite</td>\n    </tr>\n    <tr>\n      <th>21</th>\n      <td>Ability to face one's fears</td>\n      <td>Material obtained from wood used for multiple ...</td>\n      <td>Mood of agitation and nervousness</td>\n      <td>Tool used to sharpen pencils</td>\n    </tr>\n    <tr>\n      <th>22</th>\n      <td>The ability to not be blocked by fear</td>\n      <td>A material used for writing</td>\n      <td>Pathway to Learning</td>\n      <td>An object used to sharpen the lead of pencils.</td>\n    </tr>\n    <tr>\n      <th>23</th>\n      <td>emotion that allows someone to go beyond its e...</td>\n      <td>material available for writing</td>\n      <td>feeling of unease</td>\n      <td>object for returning a pencil to working order</td>\n    </tr>\n    <tr>\n      <th>24</th>\n      <td>Ability to perform a dangerous act despite the...</td>\n      <td>Product of tree's cellulose</td>\n      <td>Anxiety or fear that something bad or unpleasa...</td>\n      <td>Sharp tool to make a pencil sharp</td>\n    </tr>\n    <tr>\n      <th>25</th>\n      <td>mental or moral strength to venture, persevere...</td>\n      <td>a felted sheet of usually vegetable fibers lai...</td>\n      <td>anxiety or fear that something bad or unpleasa...</td>\n      <td>a person or device that makes something sharp</td>\n    </tr>\n    <tr>\n      <th>26</th>\n      <td>Ability to resist fear and not being scared in...</td>\n      <td>Material used for handwriting and printing</td>\n      <td>Feeling of fear and discomfort</td>\n      <td>Tool used for creating a refined edge to the e...</td>\n    </tr>\n    <tr>\n      <th>27</th>\n      <td>ability to overcome fears</td>\n      <td>material used for writing</td>\n      <td>anxiety that something unpleasant will happen</td>\n      <td>tool used to sharpen a pencil</td>\n    </tr>\n    <tr>\n      <th>28</th>\n      <td>The ability of overcome your fear and face dif...</td>\n      <td>Lightweight material used to write on it and e...</td>\n      <td>State of anxiety and fear about a particular s...</td>\n      <td>Object used to use the mine of a pencil to wri...</td>\n    </tr>\n    <tr>\n      <th>29</th>\n      <td>An aptitude of a human being, that makes him a...</td>\n      <td>A kind of material on which, one can store and...</td>\n      <td>An emotion that makes who experiences it restl...</td>\n      <td>A tool used to make the mark of a pencil clearer</td>\n    </tr>\n  </tbody>\n</table>\n</div>"
     },
     "execution_count": 68,
     "metadata": {},
     "output_type": "execute_result"
    }
   ],
   "source": [
    "import pandas as pd\n",
    "\n",
    "df_defs = pd.read_csv(filepath_or_buffer=\"utils/defs.csv\", index_col=0).dropna()\n",
    "df_defs.reset_index(drop=True, inplace=True)\n",
    "NUM_DEFS = len(df_defs) # 30\n",
    "df_defs"
   ]
  },
  {
   "cell_type": "markdown",
   "source": [
    "Fase di preprocessing (_lowercasing_, _stopword removal_, _stemming_)."
   ],
   "metadata": {
    "collapsed": false,
    "pycharm": {
     "name": "#%% md\n"
    }
   }
  },
  {
   "cell_type": "code",
   "execution_count": 69,
   "outputs": [
    {
     "data": {
      "text/plain": "                                              Courage  \\\n0         properti allow face situat despit feel fear   \n1                         abil face fear scar unpleas   \n2                                abil face thing fear   \n3                    inner strength allow face situat   \n4                                   abil control fear   \n5                      abil control fear deal unpleas   \n6                        abil avoid fear riski action   \n7                              abil choic action fear   \n8                                                fear   \n9                                abil despit frighten   \n10                                   abil scare peopl   \n11               feel allow face situat consid danger   \n12                                         abil scari   \n13                                 abil drastic choic   \n14                                  abil overcom fear   \n15                           characterist person risk   \n16                   qualiti thing gener danger scare   \n17                                behavior typic hero   \n18                         abil face difficult situat   \n19                                    abil peopl fear   \n20          strength mind allow face difficult situat   \n21                                     abil face fear   \n22                                    abil block fear   \n23                                  emot allow expect   \n24                    abil perform danger despit fear   \n25  mental moral strength ventur persever withstan...   \n26          abil resist fear scare situat provok fear   \n27                                  abil overcom fear   \n28            abil overcom fear face difficult situat   \n29                                aptitud human scare   \n\n                                                Paper  \\\n0                    cellulos materi cut fold written   \n1                           materi deriv tree context   \n2                                type materi cellulos   \n3                         product wood cellulos write   \n4                              flat materi wood write   \n5            short piec write subject univers student   \n6                             materi deriv tree write   \n7                                  materi tree cortex   \n8                              materi craft wood note   \n9                            thin object easili write   \n10  materi wood materi write draw print packag materi   \n11                product compos cellulos gener write   \n12                                       surfac write   \n13                                  materi write draw   \n14                                       materi write   \n15                                        materi tree   \n16                            materi wood gener write   \n17                              medium written commun   \n18                                              write   \n19                               thin materi cellulos   \n20                             materi compos cellulos   \n21                         materi wood multipl purpos   \n22                                       materi write   \n23                                       materi write   \n24                              product tree cellulos   \n25  felt sheet veget fiber laid fine screen water ...   \n26                              materi handwrit print   \n27                                       materi write   \n28                  lightweight materi write easi rip   \n29                          kind materi store retriev   \n\n                                         Apprehension  \\\n0             strang strang feel strang normal abnorm   \n1                                 fear expect anticip   \n2                                      mood feel agit   \n3                                             disturb   \n4                                         worri futur   \n5                               understand understood   \n6                nonrelax mind deriv unaccommod event   \n7                              sens loss sad fear awe   \n8           mental statu person feel uncomfort situat   \n9                                       mind frighten   \n10              anxieti fear bad unexpect will happen   \n11                                mental high anxieti   \n12                                      feel preoccup   \n13                              emot person feel fear   \n14                                    feel bad happen   \n15                                    neg emot person   \n16                mental statu character anxieti fear   \n17  ansia paura che accada qualcosa di brutto spia...   \n18                              constant fear anxieti   \n19                                  feel fear anxieti   \n20                                 mind upset anxieti   \n21                                  mood agit nervous   \n22                                      pathway learn   \n23                                         feel uneas   \n24               anxieti fear bad unpleas will happen   \n25               anxieti fear bad unpleas will happen   \n26                               feel fear discomfort   \n27                        anxieti unpleas will happen   \n28                                anxieti fear situat   \n29                          emot experi restless agit   \n\n                                Sharpener  \n0   tool equip blade allow sharpen pencil  \n1                    object shapen pencil  \n2                   object sharpen pencil  \n3                     tool sharpen pencil  \n4             object allow sharpen pencil  \n5                       tool make sharper  \n6                         tool cut pencil  \n7                  tool make mine sharpen  \n8                     tool sharpen pencil  \n9             object allow sharpen pencil  \n10            object sharpen pencil write  \n11              tool blade sharpen pencil  \n12                    tool sharpen pencil  \n13                    tool sharpen pencil  \n14                    tool pencil sharpen  \n15            object allow sharpen pencil  \n16                    tool sharpen pencil  \n17                     person devic sharp  \n18                  object sharpen pencil  \n19                  object sharpen pencil  \n20       stationeri object smooth graphit  \n21                    tool sharpen pencil  \n22             object sharpen lead pencil  \n23        object return pencil work order  \n24                sharp tool pencil sharp  \n25                     person devic sharp  \n26            tool creat refin edg pencil  \n27                    tool sharpen pencil  \n28               object mine pencil write  \n29               tool mark pencil clearer  ",
      "text/html": "<div>\n<style scoped>\n    .dataframe tbody tr th:only-of-type {\n        vertical-align: middle;\n    }\n\n    .dataframe tbody tr th {\n        vertical-align: top;\n    }\n\n    .dataframe thead th {\n        text-align: right;\n    }\n</style>\n<table border=\"1\" class=\"dataframe\">\n  <thead>\n    <tr style=\"text-align: right;\">\n      <th></th>\n      <th>Courage</th>\n      <th>Paper</th>\n      <th>Apprehension</th>\n      <th>Sharpener</th>\n    </tr>\n  </thead>\n  <tbody>\n    <tr>\n      <th>0</th>\n      <td>properti allow face situat despit feel fear</td>\n      <td>cellulos materi cut fold written</td>\n      <td>strang strang feel strang normal abnorm</td>\n      <td>tool equip blade allow sharpen pencil</td>\n    </tr>\n    <tr>\n      <th>1</th>\n      <td>abil face fear scar unpleas</td>\n      <td>materi deriv tree context</td>\n      <td>fear expect anticip</td>\n      <td>object shapen pencil</td>\n    </tr>\n    <tr>\n      <th>2</th>\n      <td>abil face thing fear</td>\n      <td>type materi cellulos</td>\n      <td>mood feel agit</td>\n      <td>object sharpen pencil</td>\n    </tr>\n    <tr>\n      <th>3</th>\n      <td>inner strength allow face situat</td>\n      <td>product wood cellulos write</td>\n      <td>disturb</td>\n      <td>tool sharpen pencil</td>\n    </tr>\n    <tr>\n      <th>4</th>\n      <td>abil control fear</td>\n      <td>flat materi wood write</td>\n      <td>worri futur</td>\n      <td>object allow sharpen pencil</td>\n    </tr>\n    <tr>\n      <th>5</th>\n      <td>abil control fear deal unpleas</td>\n      <td>short piec write subject univers student</td>\n      <td>understand understood</td>\n      <td>tool make sharper</td>\n    </tr>\n    <tr>\n      <th>6</th>\n      <td>abil avoid fear riski action</td>\n      <td>materi deriv tree write</td>\n      <td>nonrelax mind deriv unaccommod event</td>\n      <td>tool cut pencil</td>\n    </tr>\n    <tr>\n      <th>7</th>\n      <td>abil choic action fear</td>\n      <td>materi tree cortex</td>\n      <td>sens loss sad fear awe</td>\n      <td>tool make mine sharpen</td>\n    </tr>\n    <tr>\n      <th>8</th>\n      <td>fear</td>\n      <td>materi craft wood note</td>\n      <td>mental statu person feel uncomfort situat</td>\n      <td>tool sharpen pencil</td>\n    </tr>\n    <tr>\n      <th>9</th>\n      <td>abil despit frighten</td>\n      <td>thin object easili write</td>\n      <td>mind frighten</td>\n      <td>object allow sharpen pencil</td>\n    </tr>\n    <tr>\n      <th>10</th>\n      <td>abil scare peopl</td>\n      <td>materi wood materi write draw print packag materi</td>\n      <td>anxieti fear bad unexpect will happen</td>\n      <td>object sharpen pencil write</td>\n    </tr>\n    <tr>\n      <th>11</th>\n      <td>feel allow face situat consid danger</td>\n      <td>product compos cellulos gener write</td>\n      <td>mental high anxieti</td>\n      <td>tool blade sharpen pencil</td>\n    </tr>\n    <tr>\n      <th>12</th>\n      <td>abil scari</td>\n      <td>surfac write</td>\n      <td>feel preoccup</td>\n      <td>tool sharpen pencil</td>\n    </tr>\n    <tr>\n      <th>13</th>\n      <td>abil drastic choic</td>\n      <td>materi write draw</td>\n      <td>emot person feel fear</td>\n      <td>tool sharpen pencil</td>\n    </tr>\n    <tr>\n      <th>14</th>\n      <td>abil overcom fear</td>\n      <td>materi write</td>\n      <td>feel bad happen</td>\n      <td>tool pencil sharpen</td>\n    </tr>\n    <tr>\n      <th>15</th>\n      <td>characterist person risk</td>\n      <td>materi tree</td>\n      <td>neg emot person</td>\n      <td>object allow sharpen pencil</td>\n    </tr>\n    <tr>\n      <th>16</th>\n      <td>qualiti thing gener danger scare</td>\n      <td>materi wood gener write</td>\n      <td>mental statu character anxieti fear</td>\n      <td>tool sharpen pencil</td>\n    </tr>\n    <tr>\n      <th>17</th>\n      <td>behavior typic hero</td>\n      <td>medium written commun</td>\n      <td>ansia paura che accada qualcosa di brutto spia...</td>\n      <td>person devic sharp</td>\n    </tr>\n    <tr>\n      <th>18</th>\n      <td>abil face difficult situat</td>\n      <td>write</td>\n      <td>constant fear anxieti</td>\n      <td>object sharpen pencil</td>\n    </tr>\n    <tr>\n      <th>19</th>\n      <td>abil peopl fear</td>\n      <td>thin materi cellulos</td>\n      <td>feel fear anxieti</td>\n      <td>object sharpen pencil</td>\n    </tr>\n    <tr>\n      <th>20</th>\n      <td>strength mind allow face difficult situat</td>\n      <td>materi compos cellulos</td>\n      <td>mind upset anxieti</td>\n      <td>stationeri object smooth graphit</td>\n    </tr>\n    <tr>\n      <th>21</th>\n      <td>abil face fear</td>\n      <td>materi wood multipl purpos</td>\n      <td>mood agit nervous</td>\n      <td>tool sharpen pencil</td>\n    </tr>\n    <tr>\n      <th>22</th>\n      <td>abil block fear</td>\n      <td>materi write</td>\n      <td>pathway learn</td>\n      <td>object sharpen lead pencil</td>\n    </tr>\n    <tr>\n      <th>23</th>\n      <td>emot allow expect</td>\n      <td>materi write</td>\n      <td>feel uneas</td>\n      <td>object return pencil work order</td>\n    </tr>\n    <tr>\n      <th>24</th>\n      <td>abil perform danger despit fear</td>\n      <td>product tree cellulos</td>\n      <td>anxieti fear bad unpleas will happen</td>\n      <td>sharp tool pencil sharp</td>\n    </tr>\n    <tr>\n      <th>25</th>\n      <td>mental moral strength ventur persever withstan...</td>\n      <td>felt sheet veget fiber laid fine screen water ...</td>\n      <td>anxieti fear bad unpleas will happen</td>\n      <td>person devic sharp</td>\n    </tr>\n    <tr>\n      <th>26</th>\n      <td>abil resist fear scare situat provok fear</td>\n      <td>materi handwrit print</td>\n      <td>feel fear discomfort</td>\n      <td>tool creat refin edg pencil</td>\n    </tr>\n    <tr>\n      <th>27</th>\n      <td>abil overcom fear</td>\n      <td>materi write</td>\n      <td>anxieti unpleas will happen</td>\n      <td>tool sharpen pencil</td>\n    </tr>\n    <tr>\n      <th>28</th>\n      <td>abil overcom fear face difficult situat</td>\n      <td>lightweight materi write easi rip</td>\n      <td>anxieti fear situat</td>\n      <td>object mine pencil write</td>\n    </tr>\n    <tr>\n      <th>29</th>\n      <td>aptitud human scare</td>\n      <td>kind materi store retriev</td>\n      <td>emot experi restless agit</td>\n      <td>tool mark pencil clearer</td>\n    </tr>\n  </tbody>\n</table>\n</div>"
     },
     "execution_count": 69,
     "metadata": {},
     "output_type": "execute_result"
    }
   ],
   "source": [
    "from nltk.stem import PorterStemmer\n",
    "import string\n",
    "\n",
    "# Loading stopwords list from file\n",
    "stopwords = []\n",
    "for line in open(\"utils/stop_words_FULL.txt\", 'r').readlines():\n",
    "    stopwords.append(line.rstrip('\\n'))\n",
    "stopwords = pd.Series(stopwords)\n",
    "\n",
    "# Initializing nltk.PorterStemmer()\n",
    "ps = PorterStemmer()\n",
    "\n",
    "for i in df_defs.columns:\n",
    "    # Lowercasing\n",
    "    df_defs[i] = df_defs[i].str.lower()\n",
    "    # Punct removal\n",
    "    tmp = df_defs[i].apply(lambda x: str(x).translate(str.maketrans('', '',string.punctuation)))\n",
    "    df_defs[i] = tmp\n",
    "    # Stopword removal\n",
    "    tmp = df_defs[i].apply(lambda x: ' '.join([word for word in str(x).split() if word not in stopwords.values]))\n",
    "    df_defs[i] = tmp\n",
    "    # Stemming\n",
    "    tmp = df_defs[i].apply(lambda x: ' '.join([ps.stem(word) for word in str(x).split()]))\n",
    "    df_defs[i] = tmp\n",
    "df_defs"
   ],
   "metadata": {
    "collapsed": false,
    "pycharm": {
     "name": "#%%\n"
    }
   }
  },
  {
   "cell_type": "markdown",
   "source": [
    "Calcolo della similarità fra le definizioni di ogni termine.\n",
    "\n",
    "Ci aspettiamo che i termini __concreti__ ('*Paper*', '*Sharpener*') abbiamo un valore di similarità maggiore rispetto a quelli __astratti__ ('*Courage*', '*Apprehension*')"
   ],
   "metadata": {
    "collapsed": false,
    "pycharm": {
     "name": "#%% md\n"
    }
   }
  },
  {
   "cell_type": "code",
   "execution_count": 70,
   "outputs": [
    {
     "name": "stdout",
     "output_type": "stream",
     "text": [
      "Courage \t 1.0377777777777777\n",
      "Paper \t 0.978888888888889\n",
      "Apprehension \t 0.518888888888889\n",
      "Sharpener \t 1.6122222222222224\n"
     ]
    }
   ],
   "source": [
    "def bag_of_words(d, defs):\n",
    "    \"\"\"\n",
    "    Find the average intersection length between a definition and the others.\n",
    "\n",
    "    :param d: the definition\n",
    "    :param defs: the other definitions\n",
    "\n",
    "    :return: average length of the intersection\n",
    "    \"\"\"\n",
    "    d = set(d.split())\n",
    "    sum = 0\n",
    "    for other_d in defs:\n",
    "        bow = d.intersection(other_d.split())\n",
    "        sum += len(bow)\n",
    "    return sum / NUM_DEFS\n",
    "\n",
    "def compute_sim(c):\n",
    "    \"\"\"\n",
    "    Find the average bow value between all the definitions of a term.\n",
    "\n",
    "    :param c: the term's column in the dataframe\n",
    "\n",
    "    :return: average bow value\n",
    "    \"\"\"\n",
    "    sum = 0\n",
    "    for i in range(NUM_DEFS):\n",
    "        sum += bag_of_words(df_defs[c][i], df_defs[c])\n",
    "    return sum / NUM_DEFS\n",
    "\n",
    "for c in df_defs.columns:\n",
    "    print(c, '\\t', compute_sim(c))\n",
    "    # media delle medie delle intersezioni fra tutte le combinazioni di definizioni della colonna c\n",
    "    # per ogni definizione calcolo la bow media con tutte le altre defs, faccio la media delle medie ed ho la similarità"
   ],
   "metadata": {
    "collapsed": false,
    "pycharm": {
     "name": "#%%\n"
    }
   }
  },
  {
   "cell_type": "markdown",
   "source": [
    "# Esercizio 1.2 - Similarity explanation"
   ],
   "metadata": {
    "collapsed": false,
    "pycharm": {
     "name": "#%% md\n"
    }
   }
  },
  {
   "cell_type": "markdown",
   "source": [
    "Spiegazione della similarità usando una lista delle parole più frequentemente usate nelle definizioni.\n",
    "\n",
    "Per ogni termine si calcola:\n",
    " - il numero totale di paorle diverse usate nelle definizioni\n",
    " - una lista delle parole maggiormente usate (occorrono in almeno la metà delle definizioni)"
   ],
   "metadata": {
    "collapsed": false,
    "pycharm": {
     "name": "#%% md\n"
    }
   }
  },
  {
   "cell_type": "code",
   "execution_count": 71,
   "outputs": [
    {
     "name": "stdout",
     "output_type": "stream",
     "text": [
      "Word: 'Courage'\n",
      "Number of words: 51\n",
      "List of frequent words: \n",
      "abil    19\n",
      "fear    18\n",
      "dtype: int64\n",
      "\n",
      "Word: 'Paper'\n",
      "Number of words: 50\n",
      "List of frequent words: \n",
      "materi    23\n",
      "write     16\n",
      "dtype: int64\n",
      "\n",
      "Word: 'Apprehension'\n",
      "Number of words: 57\n",
      "List of frequent words: \n",
      "Series([], dtype: int64)\n",
      "\n",
      "Word: 'Sharpener'\n",
      "Number of words: 28\n",
      "List of frequent words: \n",
      "pencil     25\n",
      "sharpen    19\n",
      "tool       16\n",
      "dtype: int64\n",
      "\n"
     ]
    }
   ],
   "source": [
    "for c in df_defs.columns:\n",
    "    words_count = df_defs[c].str.split(expand=True).stack().value_counts() # conta le occorrenze di ogni parola lungo tutta la colonna del termine\n",
    "    frequent_words = words_count[words_count > 15]  # prendiamo le parole che occorrono in 1/2 (15) delle definizioni, supponendo che ogni parola compaia al più una volta in ogni definizione\n",
    "    print(f'Word: \\'{c}\\'\\n'\n",
    "          f'Number of words: {len(words_count)}\\n'\n",
    "          f'List of frequent words: \\n{frequent_words}\\n')"
   ],
   "metadata": {
    "collapsed": false,
    "pycharm": {
     "name": "#%%\n"
    }
   }
  },
  {
   "cell_type": "markdown",
   "source": [
    "Dai dati ottenuti notiamo come per i termini '*Courage*', '*Paper*' ed '*Apprehension*' il numero delle parole usato sia molto alto, sintomo di una difficoltà nell'individuarli correttamente.\n",
    "\n",
    "Per '*Apprehension*' abbiamo il valore maggiore (57) ed infatti è il termine con il valore di similarità più basso. Questo rispecchia ciò che si era affermato in precedenza, infatti, essendo un termine astratto, è molto difficile da descrivere ed ognuno tende ad avere una propria rappresentazione.\n",
    "\n",
    "Discorso opposto per '*Sharpener*', il quale ha invece poche parole usate (28) ed è quello con la similarità maggiore. Essendo un oggetto fisico è più semplice descriverlo e si tende ad usare un linguaggio più uniforme.\n",
    "\n",
    "Fra le parole più usate nelle definizioni possiamo osservare che per gli oggetti __concreti__ si ha una concentrazione maggiore sugli stessi termini, in quanto le caratteristiche sono visibili ed è semplice descriverle.\n",
    "Questo non vale per gli oggetti __astratti__ i quali hanno una distribuzione delle parole diversa, basti guardare ad '*Apprehension*' che non ha nessuna parola frequente."
   ],
   "metadata": {
    "collapsed": false,
    "pycharm": {
     "name": "#%% md\n"
    }
   }
  },
  {
   "cell_type": "markdown",
   "source": [],
   "metadata": {
    "collapsed": false,
    "pycharm": {
     "name": "#%% md\n"
    }
   }
  }
 ],
 "metadata": {
  "kernelspec": {
   "display_name": "Python 3",
   "language": "python",
   "name": "python3"
  },
  "language_info": {
   "codemirror_mode": {
    "name": "ipython",
    "version": 2
   },
   "file_extension": ".py",
   "mimetype": "text/x-python",
   "name": "python",
   "nbconvert_exporter": "python",
   "pygments_lexer": "ipython2",
   "version": "2.7.6"
  }
 },
 "nbformat": 4,
 "nbformat_minor": 0
}