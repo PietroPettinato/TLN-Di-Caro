{
 "cells": [
  {
   "cell_type": "code",
   "execution_count": 51,
   "outputs": [],
   "source": [
    "import webbrowser\n",
    "from pprint import pprint\n",
    "from py2neo import Graph, NodeMatcher"
   ],
   "metadata": {
    "collapsed": false,
    "pycharm": {
     "name": "#%%\n"
    }
   }
  },
  {
   "cell_type": "markdown",
   "source": [
    "# Esercizio 3.1 - NLP e Knowledge Graphs\n",
    "\n",
    "In questo esercizio vogliamo rappresentare e visualizzare dei dati testuali in un KG ed eseguire alcune operazioni di _Information Retrieval_ su di esso."
   ],
   "metadata": {
    "collapsed": false,
    "pycharm": {
     "name": "#%% md\n"
    }
   }
  },
  {
   "cell_type": "markdown",
   "source": [
    "Il corpus utilizzato è _smallNaukriJobsData_, un sottoinsieme contenente le prime 30 istanze del dataset _Naukri Jobs Data_ (<https://www.kaggle.com/datasets/kuchhbhi/latest-30k-jobs-data?resource=download>)."
   ],
   "metadata": {
    "collapsed": false,
    "pycharm": {
     "name": "#%% md\n"
    }
   }
  },
  {
   "cell_type": "markdown",
   "source": [
    "Accediamo a _Neo4j_ tramite la libreria _py2neo_, la quale opera da client permettendo di eseguire operazioni sul grafo direttamente con codice python."
   ],
   "metadata": {
    "collapsed": false,
    "pycharm": {
     "name": "#%% md\n"
    }
   }
  },
  {
   "cell_type": "code",
   "execution_count": 61,
   "outputs": [
    {
     "name": "stdout",
     "output_type": "stream",
     "text": [
      "Numero di nodi nel grafo:  62\n",
      "Numero di nodi nel grafo:  0\n"
     ]
    }
   ],
   "source": [
    "# accediamo a Neo4j\n",
    "graph = Graph('neo4j://localhost:7687', auth=()) # inserire credenziali neo4j \n",
    "\n",
    "# se ci sono già dei nodi li cancelliamo in modo da avere un grafo vuoto\n",
    "print('Numero di nodi nel grafo: ', len(graph.nodes))\n",
    "graph.delete_all()\n",
    "print('Numero di nodi nel grafo: ', len(graph.nodes))"
   ],
   "metadata": {
    "collapsed": false,
    "pycharm": {
     "name": "#%%\n"
    }
   }
  },
  {
   "cell_type": "markdown",
   "source": [
    "Costruiamo il grafo inserendo le istanze contenute nel file \"_utils/small Naukri Jobs Data.csv_\".\n",
    "Viene creato:\n",
    "- un nodo per la compagnia e le sue info\n",
    "- un nodo per l'annuncio con tutti i suoi dati\n",
    "\n",
    "Colleghiamo quindi i due nodi con una relazione di tipo \"Compagnia -- OFFER --> Lavoro\"."
   ],
   "metadata": {
    "collapsed": false,
    "pycharm": {
     "name": "#%% md\n"
    }
   }
  },
  {
   "cell_type": "code",
   "execution_count": 62,
   "outputs": [
    {
     "name": "stdout",
     "output_type": "stream",
     "text": [
      "Numero di nodi nel grafo:  0\n",
      "Numero di nodi nel grafo:  60\n"
     ]
    }
   ],
   "source": [
    "# carichiamo i nodi nel grafo\n",
    "\n",
    "print('Numero di nodi nel grafo: ', len(graph.nodes))\n",
    "\n",
    "# a partire dal file .csv importiamo 30 istanze di annunci di lavoro\n",
    "graph.run('''\n",
    "LOAD CSV WITH HEADERS FROM 'file:///smallNaukriJobsData.csv' AS line\n",
    "CREATE(:Job_post {job_post: line.job_post, exp_required: line.exp_required, salary_offered: line.salary_offered, job_location: line.job_location, job_description: line.job_description, required_skills: line.required_skills, Posted_as_on_22_5_2022: line.Posted_as_on_22_5_2022})\n",
    "CREATE(:Company {company: line.company, company_rating: line.company_rating, company_review: line.company_review})\n",
    "MERGE (job:Job_post {job_post: line.job_post})\n",
    "MERGE (company:Company {company: line.company})\n",
    "CREATE (company)-[:OFFER]->(job)\n",
    "''')\n",
    "\n",
    "print('Numero di nodi nel grafo: ', len(graph.nodes))"
   ],
   "metadata": {
    "collapsed": false,
    "pycharm": {
     "name": "#%%\n"
    }
   }
  },
  {
   "cell_type": "markdown",
   "source": [
    "Aggiungiamo altri due nodi (_Jobs_ e _Companies_) rappresentanti le possibili classi di appartenenza dei nodi inseriti in precedenza. Colleghiamo quindi ogni nodo alla propria classe con una relazione _IS-A_."
   ],
   "metadata": {
    "collapsed": false,
    "pycharm": {
     "name": "#%% md\n"
    }
   }
  },
  {
   "cell_type": "code",
   "execution_count": 63,
   "outputs": [
    {
     "name": "stdout",
     "output_type": "stream",
     "text": [
      "Numero di nodi nel grafo:  62\n"
     ]
    }
   ],
   "source": [
    "# creiamo i nodi\n",
    "graph.run('''\n",
    "CREATE(:Jobs {class: \"job\"})\n",
    "CREATE(:Companies {class: \"company\"})\n",
    "''')\n",
    "\n",
    "# colleghiamo i nodi già esistenti alle classi di appartenenza\n",
    "\n",
    "graph.run('''\n",
    "MERGE (jobs: Jobs {class: \"job\"})\n",
    "MERGE (job: Job_post)\n",
    "CREATE (job)-[:ISA]->(jobs)\n",
    "''')\n",
    "\n",
    "graph.run('''\n",
    "MERGE (companies: Companies {class: \"company\"})\n",
    "MERGE (company: Company)\n",
    "CREATE (company)-[:ISA]->(companies)\n",
    "''')\n",
    "\n",
    "print('Numero di nodi nel grafo: ', len(graph.nodes))"
   ],
   "metadata": {
    "collapsed": false,
    "pycharm": {
     "name": "#%%\n"
    }
   }
  },
  {
   "cell_type": "markdown",
   "source": [
    "## Visualizzazione"
   ],
   "metadata": {
    "collapsed": false,
    "pycharm": {
     "name": "#%% md\n"
    }
   }
  },
  {
   "cell_type": "markdown",
   "source": [
    "Visualizziamo il grafo in forma interattiva."
   ],
   "metadata": {
    "collapsed": false,
    "pycharm": {
     "name": "#%% md\n"
    }
   }
  },
  {
   "cell_type": "code",
   "execution_count": 64,
   "outputs": [
    {
     "data": {
      "text/plain": "True"
     },
     "execution_count": 64,
     "metadata": {},
     "output_type": "execute_result"
    }
   ],
   "source": [
    "# visualizziamo i dati accedendo a Neo4J\n",
    "url = 'http://localhost:7474'\n",
    "webbrowser.open(url, new=2) # new=2 opens a new tab"
   ],
   "metadata": {
    "collapsed": false,
    "pycharm": {
     "name": "#%%\n"
    }
   }
  },
  {
   "cell_type": "markdown",
   "source": [
    "Visualizziamo i dati anche sul notebook sotto forma di DataFrame."
   ],
   "metadata": {
    "collapsed": false,
    "pycharm": {
     "name": "#%% md\n"
    }
   }
  },
  {
   "cell_type": "code",
   "execution_count": 56,
   "outputs": [
    {
     "name": "stdout",
     "output_type": "stream",
     "text": [
      "62\n"
     ]
    },
    {
     "data": {
      "text/plain": "                                                   n\n0  {'exp_required': '0-3 Yrs', 'job_description':...\n1  {'company_review': '(2907 Reviews)', 'company'...\n2  {'exp_required': '5-15 Yrs', 'job_description'...\n3  {'company_review': '(544 Reviews)', 'company':...\n4  {'exp_required': '11-13 Yrs', 'job_description...",
      "text/html": "<div>\n<style scoped>\n    .dataframe tbody tr th:only-of-type {\n        vertical-align: middle;\n    }\n\n    .dataframe tbody tr th {\n        vertical-align: top;\n    }\n\n    .dataframe thead th {\n        text-align: right;\n    }\n</style>\n<table border=\"1\" class=\"dataframe\">\n  <thead>\n    <tr style=\"text-align: right;\">\n      <th></th>\n      <th>n</th>\n    </tr>\n  </thead>\n  <tbody>\n    <tr>\n      <th>0</th>\n      <td>{'exp_required': '0-3 Yrs', 'job_description':...</td>\n    </tr>\n    <tr>\n      <th>1</th>\n      <td>{'company_review': '(2907 Reviews)', 'company'...</td>\n    </tr>\n    <tr>\n      <th>2</th>\n      <td>{'exp_required': '5-15 Yrs', 'job_description'...</td>\n    </tr>\n    <tr>\n      <th>3</th>\n      <td>{'company_review': '(544 Reviews)', 'company':...</td>\n    </tr>\n    <tr>\n      <th>4</th>\n      <td>{'exp_required': '11-13 Yrs', 'job_description...</td>\n    </tr>\n  </tbody>\n</table>\n</div>"
     },
     "execution_count": 56,
     "metadata": {},
     "output_type": "execute_result"
    }
   ],
   "source": [
    "# stampiamo i nodi del grafo anche nel notebook\n",
    "data = graph.run('''\n",
    "MATCH (n)\n",
    "RETURN n\n",
    "''').to_data_frame()\n",
    "print(len(data))\n",
    "data.head()"
   ],
   "metadata": {
    "collapsed": false,
    "pycharm": {
     "name": "#%%\n"
    }
   }
  },
  {
   "cell_type": "markdown",
   "source": [
    "## Information Retrieval\n",
    "\n",
    "Eseguiamo alcune operazioni di ricerca sul grafo eseguendo delle query basate sull'utilizzo di una __parola chiave__."
   ],
   "metadata": {
    "collapsed": false,
    "pycharm": {
     "name": "#%% md\n"
    }
   }
  },
  {
   "cell_type": "code",
   "execution_count": 57,
   "outputs": [],
   "source": [
    "node_matcher = NodeMatcher(graph) # oggetto per matchare i nodi del grafo con le proprietà indicate."
   ],
   "metadata": {
    "collapsed": false,
    "pycharm": {
     "name": "#%%\n"
    }
   }
  },
  {
   "cell_type": "markdown",
   "source": [
    "Effettuiamo una ricerca degli annunci che hanno come sede lavorativa una specifica città."
   ],
   "metadata": {
    "collapsed": false,
    "pycharm": {
     "name": "#%% md\n"
    }
   }
  },
  {
   "cell_type": "code",
   "execution_count": 65,
   "outputs": [
    {
     "name": "stdout",
     "output_type": "stream",
     "text": [
      "[{'Posted_as_on_22_5_2022': '8 DAYS AGO',\n",
      "  'exp_required': '3-5 Yrs',\n",
      "  'job_description': 'Any Graduate OR Bachelors degree in Computer Science, '\n",
      "                     'Information Technology, System Ad...',\n",
      "  'job_location': 'Mumbai',\n",
      "  'job_post': 'Executive/ Sr. Executive - Information Technology',\n",
      "  'required_skills': 'Installation\\n'\n",
      "                     'Windows Administration\\n'\n",
      "                     'system administration\\n'\n",
      "                     'Active directory\\n'\n",
      "                     'troubleshooting\\n'\n",
      "                     'EPBX System\\n'\n",
      "                     'FTP\\n'\n",
      "                     'configuration',\n",
      "  'salary_offered': 'Not disclosed'},\n",
      " {'Posted_as_on_22_5_2022': '30+ DAYS AGO',\n",
      "  'exp_required': '2-6 Yrs',\n",
      "  'job_description': 'KEY RESPONSIBILITIES Responsible to map business '\n",
      "                     'requirements into Industry Standard Te...',\n",
      "  'job_location': 'Mumbai',\n",
      "  'job_post': 'Assistant Manager- Information Technology',\n",
      "  'required_skills': 'IT Skills\\n'\n",
      "                     'Testing\\n'\n",
      "                     'Oracle\\n'\n",
      "                     'RPA\\n'\n",
      "                     'ASP.Net\\n'\n",
      "                     'Process automation\\n'\n",
      "                     'Computer science\\n'\n",
      "                     'Automation',\n",
      "  'salary_offered': 'Not disclosed'},\n",
      " {'Posted_as_on_22_5_2022': '30+ DAYS AGO',\n",
      "  'exp_required': '3-8 Yrs',\n",
      "  'job_description': 'Must have at least 3 years practical application of '\n",
      "                     'Oracle PLSQL Development in Data Wa...',\n",
      "  'job_location': 'Mumbai',\n",
      "  'job_post': 'Associate Professional, Information Technology',\n",
      "  'required_skills': 'IT Skills\\n'\n",
      "                     'Testing\\n'\n",
      "                     'Quality Assurance\\n'\n",
      "                     'Oracle\\n'\n",
      "                     '.Net\\n'\n",
      "                     'Unix\\n'\n",
      "                     'Aix\\n'\n",
      "                     'Performance tuning',\n",
      "  'salary_offered': 'Not disclosed'}]\n"
     ]
    }
   ],
   "source": [
    "city = 'Mumbai' # input('Insert the name of the city: ')\n",
    "match = node_matcher.match(job_location=city).all()\n",
    "pprint(match)"
   ],
   "metadata": {
    "collapsed": false,
    "pycharm": {
     "name": "#%%\n"
    }
   }
  },
  {
   "cell_type": "markdown",
   "source": [
    "Effettuiamo una ricerca delle compagnie in base al nome specificato."
   ],
   "metadata": {
    "collapsed": false,
    "pycharm": {
     "name": "#%% md\n"
    }
   }
  },
  {
   "cell_type": "code",
   "execution_count": 66,
   "outputs": [
    {
     "name": "stdout",
     "output_type": "stream",
     "text": [
      "[{'company': 'IBM',\n",
      "  'company_rating': '4.2',\n",
      "  'company_review': '(13315 Reviews)'}]\n"
     ]
    }
   ],
   "source": [
    "company = 'IBM' # input('Insert the name of the company: ')\n",
    "match = node_matcher.match(company=company).all()\n",
    "pprint(match)"
   ],
   "metadata": {
    "collapsed": false,
    "pycharm": {
     "name": "#%%\n"
    }
   }
  },
  {
   "cell_type": "markdown",
   "source": [
    "Effettuiamo una ricerca delle posizioni aperte in una data compagnia."
   ],
   "metadata": {
    "collapsed": false,
    "pycharm": {
     "name": "#%% md\n"
    }
   }
  },
  {
   "cell_type": "code",
   "execution_count": 67,
   "outputs": [
    {
     "name": "stdout",
     "output_type": "stream",
     "text": [
      "[{'m': {'Posted_as_on_22_5_2022': '4 DAYS AGO',\n",
      "        'exp_required': '2-7 Yrs',\n",
      "        'job_description': 'The resource will be expected to cross '\n",
      "                           'skill\\\\train and support multiple projects Must '\n",
      "                           'b...',\n",
      "        'job_location': 'Noida',\n",
      "        'job_post': 'Information Technology Trainee',\n",
      "        'required_skills': 'POP\\n'\n",
      "                           'Training\\n'\n",
      "                           'Basic\\n'\n",
      "                           'Networking\\n'\n",
      "                           'Intern\\n'\n",
      "                           'IT infrastructure\\n'\n",
      "                           'Infrastructure\\n'\n",
      "                           'ITIL process',\n",
      "        'salary_offered': 'Not disclosed'}},\n",
      " {'m': {'Posted_as_on_22_5_2022': '30+ DAYS AGO',\n",
      "        'exp_required': '4-9 Yrs',\n",
      "        'job_description': 'You must work well within a team environment and '\n",
      "                           'enjoy working in the office with your ...',\n",
      "        'job_location': 'Kollam/Quilon',\n",
      "        'job_post': 'Information Technology',\n",
      "        'required_skills': 'IT Skills\\n'\n",
      "                           'Java\\n'\n",
      "                           'Software Development\\n'\n",
      "                           'continuous integration\\n'\n",
      "                           'github\\n'\n",
      "                           'QA Professional\\n'\n",
      "                           'Javascript\\n'\n",
      "                           'Animation',\n",
      "        'salary_offered': 'Not disclosed'}},\n",
      " {'m': {'Posted_as_on_22_5_2022': '3 DAYS AGO',\n",
      "        'exp_required': '11-13 Yrs',\n",
      "        'job_description': 'Certification in relevant technologies A minimum '\n",
      "                           'of six years of hands-on experience ar...',\n",
      "        'job_location': 'Noida',\n",
      "        'job_post': 'Information Technology',\n",
      "        'required_skills': 'Solution architecture\\n'\n",
      "                           'Networking\\n'\n",
      "                           'Architectural design\\n'\n",
      "                           'Network security\\n'\n",
      "                           'Manager Technology\\n'\n",
      "                           'Video conferencing\\n'\n",
      "                           'microsoft\\n'\n",
      "                           'cisco',\n",
      "        'salary_offered': 'Not disclosed'}},\n",
      " {'m': {'Posted_as_on_22_5_2022': '12 DAYS AGO',\n",
      "        'exp_required': '1-2 Yrs',\n",
      "        'job_description': 'Any Graduate Preferred*Immediate Joiners and '\n",
      "                           'candidate residing in Mumbai should applyC...',\n",
      "        'job_location': 'Mumbai (All Areas)',\n",
      "        'job_post': 'Information Technology',\n",
      "        'required_skills': 'information technology\\n'\n",
      "                           'Desktop Support\\n'\n",
      "                           'Antivirus Management\\n'\n",
      "                           'Hardware\\n'\n",
      "                           'Windows Administration\\n'\n",
      "                           'Troubleshooting Skills',\n",
      "        'salary_offered': '1,50,000 - 1,75,000 PA.'}},\n",
      " {'m': {'Posted_as_on_22_5_2022': '30+ DAYS AGO',\n",
      "        'exp_required': '7-9 Yrs',\n",
      "        'job_description': '9 years of experience in IT/ software engineering '\n",
      "                           'with in-depth experience/ certificati...',\n",
      "        'job_location': 'Bangalore/Bengaluru',\n",
      "        'job_post': 'Information Technology',\n",
      "        'required_skills': 'Hibernate\\n'\n",
      "                           'Linux\\n'\n",
      "                           'MySQL\\n'\n",
      "                           'Javascript\\n'\n",
      "                           'PHP\\n'\n",
      "                           'J2Ee\\n'\n",
      "                           'HTML\\n'\n",
      "                           'Oracle',\n",
      "        'salary_offered': 'Not disclosed'}},\n",
      " {'m': {'Posted_as_on_22_5_2022': '30+ DAYS AGO',\n",
      "        'exp_required': '4-9 Yrs',\n",
      "        'job_description': 'You must work well within a team environment and '\n",
      "                           'enjoy working in the office with your ...',\n",
      "        'job_location': 'Kollam/Quilon',\n",
      "        'job_post': 'Information Technology',\n",
      "        'required_skills': 'IT Skills\\n'\n",
      "                           'Java\\n'\n",
      "                           'Software Development\\n'\n",
      "                           'continuous integration\\n'\n",
      "                           'github\\n'\n",
      "                           'QA Professional\\n'\n",
      "                           'Javascript\\n'\n",
      "                           'Animation',\n",
      "        'salary_offered': 'Not disclosed'}},\n",
      " {'m': {'Posted_as_on_22_5_2022': '30+ DAYS AGO',\n",
      "        'exp_required': '7-9 Yrs',\n",
      "        'job_description': '9 years of experience in IT/ software engineering '\n",
      "                           'with in-depth experience/ certificati...',\n",
      "        'job_location': 'Bangalore/Bengaluru',\n",
      "        'job_post': 'Information Technology',\n",
      "        'required_skills': 'Hibernate\\n'\n",
      "                           'Linux\\n'\n",
      "                           'MySQL\\n'\n",
      "                           'Javascript\\n'\n",
      "                           'PHP\\n'\n",
      "                           'J2Ee\\n'\n",
      "                           'HTML\\n'\n",
      "                           'Oracle',\n",
      "        'salary_offered': 'Not disclosed'}},\n",
      " {'m': {'Posted_as_on_22_5_2022': '4 DAYS AGO',\n",
      "        'exp_required': '2-7 Yrs',\n",
      "        'job_description': 'The resource will be expected to cross '\n",
      "                           'skill\\\\train and support multiple projects Must '\n",
      "                           'b...',\n",
      "        'job_location': 'Noida',\n",
      "        'job_post': 'Information Technology Trainee',\n",
      "        'required_skills': 'POP\\n'\n",
      "                           'Training\\n'\n",
      "                           'Basic\\n'\n",
      "                           'Networking\\n'\n",
      "                           'Intern\\n'\n",
      "                           'IT infrastructure\\n'\n",
      "                           'Infrastructure\\n'\n",
      "                           'ITIL process',\n",
      "        'salary_offered': 'Not disclosed'}},\n",
      " {'m': {'Posted_as_on_22_5_2022': '3 DAYS AGO',\n",
      "        'exp_required': '11-13 Yrs',\n",
      "        'job_description': 'Certification in relevant technologies A minimum '\n",
      "                           'of six years of hands-on experience ar...',\n",
      "        'job_location': 'Noida',\n",
      "        'job_post': 'Information Technology',\n",
      "        'required_skills': 'Solution architecture\\n'\n",
      "                           'Networking\\n'\n",
      "                           'Architectural design\\n'\n",
      "                           'Network security\\n'\n",
      "                           'Manager Technology\\n'\n",
      "                           'Video conferencing\\n'\n",
      "                           'microsoft\\n'\n",
      "                           'cisco',\n",
      "        'salary_offered': 'Not disclosed'}},\n",
      " {'m': {'Posted_as_on_22_5_2022': '12 DAYS AGO',\n",
      "        'exp_required': '1-2 Yrs',\n",
      "        'job_description': 'Any Graduate Preferred*Immediate Joiners and '\n",
      "                           'candidate residing in Mumbai should applyC...',\n",
      "        'job_location': 'Mumbai (All Areas)',\n",
      "        'job_post': 'Information Technology',\n",
      "        'required_skills': 'information technology\\n'\n",
      "                           'Desktop Support\\n'\n",
      "                           'Antivirus Management\\n'\n",
      "                           'Hardware\\n'\n",
      "                           'Windows Administration\\n'\n",
      "                           'Troubleshooting Skills',\n",
      "        'salary_offered': '1,50,000 - 1,75,000 PA.'}}]\n"
     ]
    }
   ],
   "source": [
    "comp = 'Stefanini'\n",
    "results = graph.run('''\n",
    "MATCH (company:Company {company: $c})-[:OFFER]->(m) RETURN m\n",
    "''', parameters={'c': comp})\n",
    "pprint(results.data())"
   ],
   "metadata": {
    "collapsed": false,
    "pycharm": {
     "name": "#%%\n"
    }
   }
  },
  {
   "cell_type": "markdown",
   "source": [
    "Il grafo realizzato può essere ridotto o ingrandito in maniera estremamente semplice (basterebbe cambiare il file .csv con il dataset completo oppure inserire manualmente altri nodi), la __scalabilità__ è infatti uno dei vantaggi dei KG.\n",
    "Questa forma di rappresentazione dei dati è molto utile per l'esecuzione di svariati task di NLP (come l'_Information Retrieval_ qui implementato).\n",
    "La possibilità di visualizzare il grafo rende inoltre molto intuitivi i collegamenti fra i vari elementi."
   ],
   "metadata": {
    "collapsed": false,
    "pycharm": {
     "name": "#%% md\n"
    }
   }
  }
 ],
 "metadata": {
  "kernelspec": {
   "display_name": "Python 3 (ipykernel)",
   "language": "python",
   "name": "python3"
  },
  "language_info": {
   "codemirror_mode": {
    "name": "ipython",
    "version": 3
   },
   "file_extension": ".py",
   "mimetype": "text/x-python",
   "name": "python",
   "nbconvert_exporter": "python",
   "pygments_lexer": "ipython3",
   "version": "3.8.10"
  }
 },
 "nbformat": 4,
 "nbformat_minor": 1
}
