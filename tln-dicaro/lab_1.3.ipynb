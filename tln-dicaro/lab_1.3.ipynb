{
 "cells": [
  {
   "cell_type": "code",
   "execution_count": 19,
   "outputs": [],
   "source": [
    "import pandas as pd\n",
    "from nltk.stem import PorterStemmer\n",
    "import string\n",
    "from sklearn.cluster import KMeans\n",
    "from sklearn.feature_extraction.text import TfidfVectorizer\n",
    "import re\n",
    "from nltk import sent_tokenize\n",
    "from nltk.corpus import movie_reviews\n",
    "import numpy as np\n",
    "from matplotlib import pyplot as plt\n",
    "from sklearn.decomposition import PCA"
   ],
   "metadata": {
    "collapsed": false,
    "pycharm": {
     "name": "#%%\n"
    }
   }
  },
  {
   "cell_type": "markdown",
   "source": [
    "# Esercizio 1.3 - WSI e pseudo-word evaluation\n",
    "Implementazione di un sistema di _Word Sense Induction_ che utilizza il metodo della _pseudo-word evaluation_ per disambiguare due termini."
   ],
   "metadata": {
    "collapsed": false,
    "pycharm": {
     "name": "#%% md\n"
    }
   }
  },
  {
   "cell_type": "markdown",
   "source": [
    "Per questo esercizio è stato utilizzato il corpus _movie reviews_ di NLTK, contenente recensioni di film."
   ],
   "metadata": {
    "collapsed": false,
    "pycharm": {
     "name": "#%% md\n"
    }
   }
  },
  {
   "cell_type": "code",
   "execution_count": 20,
   "outputs": [],
   "source": [
    "# import nltk\n",
    "# nltk.download(\"movie_reviews\")"
   ],
   "metadata": {
    "collapsed": false,
    "pycharm": {
     "name": "#%%\n"
    }
   }
  },
  {
   "cell_type": "markdown",
   "source": [
    "Definiamo una funzione di preprocessing ed una funzione per estrarre il contesto dalle frasi.\n",
    "Il contesto viene estratto prendendo le 4 parole a dx e le 4 parole a sx della parola target."
   ],
   "metadata": {
    "collapsed": false,
    "pycharm": {
     "name": "#%% md\n"
    }
   }
  },
  {
   "cell_type": "code",
   "execution_count": 21,
   "outputs": [],
   "source": [
    "# Loading stopwords list from file\n",
    "stopwords = []\n",
    "for line in open(\"utils/stop_words_FULL.txt\", 'r').readlines():\n",
    "    stopwords.append(line.rstrip('\\n'))\n",
    "\n",
    "# Initializing nltk.PorterStemmer()\n",
    "ps = PorterStemmer()\n",
    "\n",
    "def preprocessing(s):\n",
    "    \"\"\"\n",
    "    Do some preprocessing operations on the string.\n",
    "\n",
    "    :param s: the string\n",
    "\n",
    "    :return: the preprocessed string\n",
    "    \"\"\"\n",
    "    # Lowercasing\n",
    "    s = s.lower()\n",
    "    # Punct removal\n",
    "    s = s.translate(str.maketrans('', '', string.punctuation))\n",
    "    # Stopword removal\n",
    "    s = ' '.join([word for word in s.split() if word not in stopwords])\n",
    "    # Stemming\n",
    "    s = ' '.join([ps.stem(word) for word in s.split()])\n",
    "    return s\n",
    "\n",
    "\n",
    "def get_context(w, s):\n",
    "    \"\"\"\n",
    "    Retrieve the context from a sentence, given the word w it takes the 4 words at its left and the 4 words at its right.\n",
    "\n",
    "    :param w: the target word\n",
    "    :param s: the sentence containing the word\n",
    "\n",
    "    :return: the context of the words\n",
    "    \"\"\"\n",
    "    s = s.split()\n",
    "    return s[s.index(w)-4:s.index(w)+5]"
   ],
   "metadata": {
    "collapsed": false,
    "pycharm": {
     "name": "#%%\n"
    }
   }
  },
  {
   "cell_type": "code",
   "execution_count": 22,
   "outputs": [],
   "source": [
    "def get_sentences(word, corpus):\n",
    "    \"\"\"\n",
    "    Given a corpus and a word, return all the senteneces with that word.\n",
    "\n",
    "    :param word: the word that must be contained in the sentences\n",
    "    :param corpus: the corpus in which the search must be done\n",
    "\n",
    "    :return: the list of sentences containing the word\n",
    "    \"\"\"\n",
    "    i = 0\n",
    "    sentences = []\n",
    "    while True:\n",
    "        try:\n",
    "            review = corpus.raw(corpus.fileids()[i])\n",
    "            if word in review.split():\n",
    "                for s in sent_tokenize(review): # le recensioni contengono più frasi, le dividiamo considerandole singolarmente\n",
    "                    if word in s.split():\n",
    "                        sentences.append(s)\n",
    "            i += 1\n",
    "        except IndexError:\n",
    "            break\n",
    "    return sentences"
   ],
   "metadata": {
    "collapsed": false,
    "pycharm": {
     "name": "#%%\n"
    }
   }
  },
  {
   "cell_type": "markdown",
   "source": [
    "### Creazione dei cluster di riferimento\n",
    "Scegliamo due parole $w_1, w_2$ con cui estrarremo le frasi dal corpus."
   ],
   "metadata": {
    "collapsed": false,
    "pycharm": {
     "name": "#%% md\n"
    }
   }
  },
  {
   "cell_type": "code",
   "execution_count": 23,
   "outputs": [
    {
     "name": "stdout",
     "output_type": "stream",
     "text": [
      "\n",
      "Numero totale di frasi estratte: 652\n",
      "                                           sentences\n",
      "0  angela bassett displays her usual forceful sta...\n",
      "1  although libby never leaps from a bus that col...\n",
      "2  a prime example of this is 1999's 10 things i ...\n",
      "3  consider for a moment what a television produc...\n",
      "4  then , after cage gets his gun , gandolfini th...\n",
      "\n",
      "Numero di frasi con 'school': 359\n",
      "                                        sentences w1\n",
      "0  angela bassett displays her usual forceful sta...\n",
      "2  a prime example of this is 1999's 10 things i ...\n",
      "3  consider for a moment what a television produc...\n",
      "5  truth be told , all three of the leads look to...\n",
      "6  tingle , but was changed after the columbine h...\n",
      "\n",
      "Numero di frasi con 'car': 293\n",
      "                                        sentences w2\n",
      "1  although libby never leaps from a bus that col...\n",
      "4  then , after cage gets his gun , gandolfini th...\n",
      "7  after turning them down , jan changes his mind...\n",
      "8  everett scott ( jonathan adams , who played th...\n",
      "9  outside after the party he meets one of the wa...\n"
     ]
    }
   ],
   "source": [
    "w1 = 'school'\n",
    "w2 = 'car'\n",
    "\n",
    "sentences = get_sentences(w1, movie_reviews)\n",
    "sentences += get_sentences(w2, movie_reviews)\n",
    "sentences = list(set(sentences)) # rimuoviamo le frasi duplicate\n",
    "df = pd.DataFrame(data=sentences, columns=['sentences'])\n",
    "print(f'\\nNumero totale di frasi estratte:', len(df))\n",
    "print(df.head())\n",
    "\n",
    "# salviamo le frasi ed i loro indici, in modo da poter modificare la frase conservando però un riferimento alla versione originale\n",
    "indexes_w1 = []\n",
    "sentences_w1 = []\n",
    "indexes_w2 = []\n",
    "sentences_w2 = []\n",
    "i = 0\n",
    "for line in df['sentences']:\n",
    "    if w1 in line.split():\n",
    "        indexes_w1.append(i)\n",
    "        sentences_w1.append(line)\n",
    "    elif w2 in line.split():\n",
    "        indexes_w2.append(i)\n",
    "        sentences_w2.append(line)\n",
    "    i += 1\n",
    "\n",
    "df_w1 = pd.DataFrame(data=sentences_w1, index=indexes_w1, columns=['sentences w1'])\n",
    "df_w2 = pd.DataFrame(data=sentences_w2, index=indexes_w2, columns=['sentences w2'])\n",
    "\n",
    "# stampiamo il numero di frasi trovate e le prime 5 della lista\n",
    "print(f'\\nNumero di frasi con \\'{w1}\\':', len(df_w1))\n",
    "print(df_w1.head())\n",
    "\n",
    "print(f'\\nNumero di frasi con \\'{w2}\\':', len(df_w2))\n",
    "print(df_w2.head())"
   ],
   "metadata": {
    "collapsed": false,
    "pycharm": {
     "name": "#%%\n"
    }
   }
  },
  {
   "cell_type": "markdown",
   "source": [
    "### Pseudo-word evaluation\n",
    "Applichiamo ora il metodo della __pseudo-word evaluation__.\n",
    "Sostituiamo all'interno del corpus ogni occorrenza delle due parole scelte con la loro concatenazione."
   ],
   "metadata": {
    "collapsed": false,
    "pycharm": {
     "name": "#%% md\n"
    }
   }
  },
  {
   "cell_type": "code",
   "execution_count": 24,
   "outputs": [
    {
     "name": "stdout",
     "output_type": "stream",
     "text": [
      "school + car = schoolcar\n",
      "\n",
      "Numero di frasi con 'schoolcar': 475\n",
      "                                     sentences w1+w2\n",
      "0  william princip inner citi initi doesnt hire r...\n",
      "1     chase beach jeep chain plung ocean seal coffin\n",
      "2                              basic tame shrew high\n",
      "3      produc book featur fatal bu accid lawyer sign\n",
      "4                         gandolfini decid best side\n"
     ]
    }
   ],
   "source": [
    "# concateniamo le due parole\n",
    "w = w1 + w2\n",
    "print(w1, '+', w2,'=', w)\n",
    "\n",
    "# ogni volta che una delle due parole viene trovata, si procede a sostituirla con la concatenazione per poi processare la frase\n",
    "sentences_w = []\n",
    "indexes_w = []\n",
    "i = 0\n",
    "for line in df['sentences']:\n",
    "    line = preprocessing(line)\n",
    "    if w1 in line.split() or w2 in line.split():\n",
    "        line = re.sub('|'.join(\"((?<=\\s)|(?<=^)){}((?=\\s)|(?=$))\".format(i) for i in [w1, w2]), w, line) # sostituzione con la concatenazione\n",
    "        try:\n",
    "            line = get_context(ps.stem(w), line)\n",
    "            line.remove(ps.stem(w))\n",
    "            line = ' '.join(word for word in line)\n",
    "            indexes_w.append(i)\n",
    "            sentences_w.append(line)\n",
    "        except ValueError as ve:\n",
    "            # a volte il contesto non riesce a prendere tutte le parole (ad es. se la parola è alla fine della frase non riesce a prendere la parte di contesto alla sua dx). In questo caso si salta la frase, avremo quindi un numero di frasi minore\n",
    "            pass\n",
    "    i += 1\n",
    "\n",
    "df_w = pd.DataFrame(data=sentences_w, index=indexes_w, columns=['sentences w1+w2'])\n",
    "print(f'\\nNumero di frasi con \\'{w}\\':', len(df_w))\n",
    "print(df_w.head())"
   ],
   "metadata": {
    "collapsed": false,
    "pycharm": {
     "name": "#%%\n"
    }
   }
  },
  {
   "cell_type": "markdown",
   "source": [
    "Sulle frasi contenenti la pseudoword procediamo con il clustering. Questo meccanismo serve ad indurre i sensi partendo dalle frasi: ogni cluster estratto corrisponderà ad un senso delle parole."
   ],
   "metadata": {
    "collapsed": false,
    "pycharm": {
     "name": "#%% md\n"
    }
   }
  },
  {
   "cell_type": "code",
   "execution_count": 25,
   "outputs": [
    {
     "name": "stderr",
     "output_type": "stream",
     "text": [
      "/home/pietro/Scrivania/python venv/venv/lib/python3.8/site-packages/sklearn/utils/validation.py:585: FutureWarning: np.matrix usage is deprecated in 1.0 and will raise a TypeError in 1.2. Please convert to a numpy array with np.asarray. For more information see: https://numpy.org/doc/stable/reference/generated/numpy.matrix.html\n",
      "  warnings.warn(\n"
     ]
    },
    {
     "data": {
      "text/plain": "<Figure size 720x504 with 1 Axes>",
      "image/png": "[encoded data removed]"
     },
     "metadata": {},
     "output_type": "display_data"
    },
    {
     "name": "stdout",
     "output_type": "stream",
     "text": [
      "                                     sentences w1+w2  cluster\n",
      "0  william princip inner citi initi doesnt hire r...        0\n",
      "1     chase beach jeep chain plung ocean seal coffin        0\n",
      "2                              basic tame shrew high        1\n",
      "3      produc book featur fatal bu accid lawyer sign        0\n",
      "4                         gandolfini decid best side        0\n"
     ]
    }
   ],
   "source": [
    "def plot_clusters(model, X):\n",
    "    # prendiamo i clusters\n",
    "    clusters = model.predict(X)\n",
    "\n",
    "    # usiamo la PCA per avere una versione densa della matrice (il TFIDF crea una matrice sparsa)\n",
    "    pca = PCA(n_components=2)\n",
    "    two_dim = pca.fit_transform(X.todense())\n",
    "\n",
    "    scatter_x = two_dim[:, 0] # prima componente principale\n",
    "    scatter_y = two_dim[:, 1] # seconda componente principale\n",
    "    plt.style.use('ggplot')\n",
    "    fig, ax = plt.subplots()\n",
    "    fig.set_size_inches(10,7)\n",
    "\n",
    "    # color map per i clusters\n",
    "    cmap = {0: 'green', 1: 'blue', 2: 'red'}\n",
    "\n",
    "    # raggruppiamo per ogni cluster e costruiamo il grafico\n",
    "    for group in np.unique(clusters):\n",
    "        ix = np.where(clusters == group)\n",
    "        ax.scatter(scatter_x[ix], scatter_y[ix], c=cmap[group], label=group)\n",
    "    ax.legend()\n",
    "    plt.xlabel(\"PCA 0\")\n",
    "    plt.ylabel(\"PCA 1\")\n",
    "\n",
    "    # inseriamo i centroidi\n",
    "    centers2D = pca.transform(model.cluster_centers_)\n",
    "    plt.scatter(centers2D[:,0], centers2D[:,1], marker='x', s=200, linewidths=3, c='r')\n",
    "    plt.show()\n",
    "\n",
    "\n",
    "def clustering_tf_idf2(sentences, n_clusters):\n",
    "    \"\"\"\n",
    "    Clustering of sentences using Term Frequency-Inverse Document Frequency and K-means algorithm.\n",
    "\n",
    "    :param sentences: list of sentences\n",
    "    :param n_clusters: number of clusters\n",
    "\n",
    "    :return: return cluster's labels for each one of the given sentences\n",
    "    \"\"\"\n",
    "    # vettorizziamo il testo ottenendo features numeriche\n",
    "    vectorizer = TfidfVectorizer()\n",
    "    X = vectorizer.fit_transform(sentences)\n",
    "\n",
    "    # clustering\n",
    "    model = KMeans(n_clusters=n_clusters, init='k-means++', max_iter=1000, n_init=500, random_state=27)\n",
    "    model.fit(X)\n",
    "\n",
    "    # plot dei clusters\n",
    "    plot_clusters(model, X)\n",
    "\n",
    "    return model.labels_\n",
    "\n",
    "\n",
    "labels_w = clustering_tf_idf2(df_w['sentences w1+w2'], 2) # vogliamo ottenere 2 sensi\n",
    "df_w['cluster'] = labels_w\n",
    "\n",
    "print(df_w.head())"
   ],
   "metadata": {
    "collapsed": false,
    "pycharm": {
     "name": "#%%\n"
    }
   }
  },
  {
   "cell_type": "markdown",
   "source": [
    "Per valutare il sistema è sufficiente verificare le variazioni nei cluster. Verifichiamo quante delle frasi con la parola $w_1$ sono contenute in un cluster e quante frasi con la parola $w_2$ sono contenute nell'altro."
   ],
   "metadata": {
    "collapsed": false,
    "pycharm": {
     "name": "#%% md\n"
    }
   }
  },
  {
   "cell_type": "code",
   "execution_count": 26,
   "outputs": [
    {
     "name": "stdout",
     "output_type": "stream",
     "text": [
      "Elementi nel Cluster 0:   348\n",
      "Elementi nel Cluster 1:   127\n"
     ]
    }
   ],
   "source": [
    "cluster0 = df_w[df_w['cluster'] == 0].index\n",
    "cluster1 = df_w[df_w['cluster'] == 1].index\n",
    "\n",
    "print('Elementi nel Cluster 0:  ', len(cluster0))\n",
    "print('Elementi nel Cluster 1:  ', len(cluster1))"
   ],
   "metadata": {
    "collapsed": false,
    "pycharm": {
     "name": "#%%\n"
    }
   }
  },
  {
   "cell_type": "code",
   "execution_count": 27,
   "outputs": [
    {
     "name": "stdout",
     "output_type": "stream",
     "text": [
      "Il cluster 1 contiene 125/127 frasi contenti la pseudoword con il senso di 'school'.\n",
      "Il cluster 0 contiene 202/348 frasi contenti la pseudoword con il senso di 'car'.\n"
     ]
    }
   ],
   "source": [
    "# contiamo gli elementi in comune fra gli indici delle frasi con la parola w1 (df_w1) e quelli del cluster trovato dall'algoritmo utilizzante la pseudoword\n",
    "# confrontiamo gli indici delle frasi in modo da non avere problemi dovuti al preprocessing ed all'uso della pseudoword\n",
    "intersection = len(df_w1.index.intersection(cluster1))\n",
    "print(f'Il cluster 1 contiene {intersection}/{len(cluster1)} frasi contenti la pseudoword con il senso di \\'{w1}\\'.')\n",
    "\n",
    "\n",
    "# contiamo gli elementi in comune fra gli indici delle frasi con la parola w2 (df_w2) e quelli del cluster trovato dall'algoritmo utilizzante la pseudoword\n",
    "# confrontiamo gli indici delle frasi in modo da non avere problemi dovuti al preprocessing ed all'uso della pseudoword\n",
    "intersection2 = len(df_w2.index.intersection(cluster0))\n",
    "print(f'Il cluster 0 contiene {intersection2}/{len(cluster0)} frasi contenti la pseudoword con il senso di \\'{w2}\\'.')"
   ],
   "metadata": {
    "collapsed": false,
    "pycharm": {
     "name": "#%%\n"
    }
   }
  },
  {
   "cell_type": "markdown",
   "source": [
    "Il sistema di WSI riesce ad indurre correttamente il senso della parola _school_, classificando correttamente quasi tutte le frasi e distinguendo le situazioni in cui la pseudoword è utilizzata con questo senso.\n",
    "Per la parola _car_ incontra invece qualche difficoltà, riuscendo però comunque ad identificare correttamente il senso della pseudoword in più della metà delle frasi."
   ],
   "metadata": {
    "collapsed": false,
    "pycharm": {
     "name": "#%% md\n"
    }
   }
  }
 ],
 "metadata": {
  "kernelspec": {
   "display_name": "Python 3",
   "language": "python",
   "name": "python3"
  },
  "language_info": {
   "codemirror_mode": {
    "name": "ipython",
    "version": 2
   },
   "file_extension": ".py",
   "mimetype": "text/x-python",
   "name": "python",
   "nbconvert_exporter": "python",
   "pygments_lexer": "ipython2",
   "version": "2.7.6"
  }
 },
 "nbformat": 4,
 "nbformat_minor": 0
}