{
 "cells": [
  {
   "cell_type": "code",
   "execution_count": 9,
   "metadata": {
    "collapsed": true,
    "pycharm": {
     "name": "#%%\n"
    }
   },
   "outputs": [],
   "source": [
    "import pandas as pd\n",
    "import string\n",
    "from nltk.corpus import wordnet as wn"
   ]
  },
  {
   "cell_type": "markdown",
   "source": [
    "# Esercizio 1.5 - Esperimento content-to-form"
   ],
   "metadata": {
    "collapsed": false,
    "pycharm": {
     "name": "#%% md\n"
    }
   }
  },
  {
   "cell_type": "markdown",
   "source": [
    "Questo esercizio è di tipo __content-to-form__ ovvero partiamo dal contenuto (il significato) e vogliamo arrivare alla forma (la parola).\n",
    "Il nostro obiettivo è quello di ottenere il synset di WordNet corretto per le quattro parole del file _defs.csv_ a partire dalle definizioni in esso presenti."
   ],
   "metadata": {
    "collapsed": false,
    "pycharm": {
     "name": "#%% md\n"
    }
   }
  },
  {
   "cell_type": "markdown",
   "source": [
    "Carichiamo il file con le definizioni dei termini."
   ],
   "metadata": {
    "collapsed": false,
    "pycharm": {
     "name": "#%% md\n"
    }
   }
  },
  {
   "cell_type": "code",
   "execution_count": 10,
   "outputs": [
    {
     "data": {
      "text/plain": "                                             Courage  \\\n0  property that allows you to face any situation...   \n1  Ability to face our own fears and do something...   \n2            the ability to face thing without fear    \n3  Inner strength that allow you to face particul...   \n4                        Ability to control the fear   \n\n                                               Paper  \\\n0  cellulose material that can be cut, folded and...   \n1  Material derived from trees and used in  sever...   \n2             a type of material made from cellulose   \n3  Product obtained from wood cellulose. It is us...   \n4      Flat material made from wood used for writing   \n\n                                        Apprehension  \\\n0  something strange, which causes a strange feel...   \n1                fearful expectation or anticipation   \n2                    A mood where one feel agitation   \n3                               State of disturbance   \n4                             Worry about the future   \n\n                                           Sharpener  \n0  tool equipped with a blade that allows you to ...  \n1                     Object used to shapen a pencil  \n2                      An object to sharpen a pencil  \n3                       Tool used to sharpen pencils  \n4      Little object which allow to sharpen a pencil  ",
      "text/html": "<div>\n<style scoped>\n    .dataframe tbody tr th:only-of-type {\n        vertical-align: middle;\n    }\n\n    .dataframe tbody tr th {\n        vertical-align: top;\n    }\n\n    .dataframe thead th {\n        text-align: right;\n    }\n</style>\n<table border=\"1\" class=\"dataframe\">\n  <thead>\n    <tr style=\"text-align: right;\">\n      <th></th>\n      <th>Courage</th>\n      <th>Paper</th>\n      <th>Apprehension</th>\n      <th>Sharpener</th>\n    </tr>\n  </thead>\n  <tbody>\n    <tr>\n      <th>0</th>\n      <td>property that allows you to face any situation...</td>\n      <td>cellulose material that can be cut, folded and...</td>\n      <td>something strange, which causes a strange feel...</td>\n      <td>tool equipped with a blade that allows you to ...</td>\n    </tr>\n    <tr>\n      <th>1</th>\n      <td>Ability to face our own fears and do something...</td>\n      <td>Material derived from trees and used in  sever...</td>\n      <td>fearful expectation or anticipation</td>\n      <td>Object used to shapen a pencil</td>\n    </tr>\n    <tr>\n      <th>2</th>\n      <td>the ability to face thing without fear</td>\n      <td>a type of material made from cellulose</td>\n      <td>A mood where one feel agitation</td>\n      <td>An object to sharpen a pencil</td>\n    </tr>\n    <tr>\n      <th>3</th>\n      <td>Inner strength that allow you to face particul...</td>\n      <td>Product obtained from wood cellulose. It is us...</td>\n      <td>State of disturbance</td>\n      <td>Tool used to sharpen pencils</td>\n    </tr>\n    <tr>\n      <th>4</th>\n      <td>Ability to control the fear</td>\n      <td>Flat material made from wood used for writing</td>\n      <td>Worry about the future</td>\n      <td>Little object which allow to sharpen a pencil</td>\n    </tr>\n  </tbody>\n</table>\n</div>"
     },
     "execution_count": 10,
     "metadata": {},
     "output_type": "execute_result"
    }
   ],
   "source": [
    "df_defs = pd.read_csv(filepath_or_buffer=\"utils/defs.csv\", index_col=0).dropna()\n",
    "df_defs.reset_index(drop=True, inplace=True)\n",
    "df_defs.head()"
   ],
   "metadata": {
    "collapsed": false,
    "pycharm": {
     "name": "#%%\n"
    }
   }
  },
  {
   "cell_type": "markdown",
   "source": [
    "Effettuiamo preprocessing per avere risultati migliori."
   ],
   "metadata": {
    "collapsed": false,
    "pycharm": {
     "name": "#%% md\n"
    }
   }
  },
  {
   "cell_type": "code",
   "execution_count": 11,
   "outputs": [
    {
     "data": {
      "text/plain": "                                             Courage  \\\n0  property allows face situation despite feeling...   \n1                ability face fears scars unpleasant   \n2                            ability face thing fear   \n3               inner strength allow face situations   \n4                               ability control fear   \n\n                                   Paper  \\\n0  cellulose material cut folded written   \n1         material derived trees context   \n2                type material cellulose   \n3         product wood cellulose writing   \n4             flat material wood writing   \n\n                                        Apprehension  \\\n0  strange strange feeling strangeness normal abn...   \n1                   fearful expectation anticipation   \n2                                mood feel agitation   \n3                                        disturbance   \n4                                       worry future   \n\n                                    Sharpener  \n0  tool equipped blade allows sharpen pencils  \n1                        object shapen pencil  \n2                       object sharpen pencil  \n3                        tool sharpen pencils  \n4                 object allow sharpen pencil  ",
      "text/html": "<div>\n<style scoped>\n    .dataframe tbody tr th:only-of-type {\n        vertical-align: middle;\n    }\n\n    .dataframe tbody tr th {\n        vertical-align: top;\n    }\n\n    .dataframe thead th {\n        text-align: right;\n    }\n</style>\n<table border=\"1\" class=\"dataframe\">\n  <thead>\n    <tr style=\"text-align: right;\">\n      <th></th>\n      <th>Courage</th>\n      <th>Paper</th>\n      <th>Apprehension</th>\n      <th>Sharpener</th>\n    </tr>\n  </thead>\n  <tbody>\n    <tr>\n      <th>0</th>\n      <td>property allows face situation despite feeling...</td>\n      <td>cellulose material cut folded written</td>\n      <td>strange strange feeling strangeness normal abn...</td>\n      <td>tool equipped blade allows sharpen pencils</td>\n    </tr>\n    <tr>\n      <th>1</th>\n      <td>ability face fears scars unpleasant</td>\n      <td>material derived trees context</td>\n      <td>fearful expectation anticipation</td>\n      <td>object shapen pencil</td>\n    </tr>\n    <tr>\n      <th>2</th>\n      <td>ability face thing fear</td>\n      <td>type material cellulose</td>\n      <td>mood feel agitation</td>\n      <td>object sharpen pencil</td>\n    </tr>\n    <tr>\n      <th>3</th>\n      <td>inner strength allow face situations</td>\n      <td>product wood cellulose writing</td>\n      <td>disturbance</td>\n      <td>tool sharpen pencils</td>\n    </tr>\n    <tr>\n      <th>4</th>\n      <td>ability control fear</td>\n      <td>flat material wood writing</td>\n      <td>worry future</td>\n      <td>object allow sharpen pencil</td>\n    </tr>\n  </tbody>\n</table>\n</div>"
     },
     "execution_count": 11,
     "metadata": {},
     "output_type": "execute_result"
    }
   ],
   "source": [
    "# Loading stopwords list from file\n",
    "stopwords = []\n",
    "for line in open(\"utils/stop_words_FULL.txt\", 'r').readlines():\n",
    "    stopwords.append(line.rstrip('\\n'))\n",
    "stopwords = pd.Series(stopwords)\n",
    "\n",
    "for c in df_defs.columns:\n",
    "    # Lowercasing\n",
    "    df_defs[c] = df_defs[c].str.lower()\n",
    "    # Punct removal\n",
    "    tmp = df_defs[c].apply(lambda x: str(x).translate(str.maketrans('', '', string.punctuation)))\n",
    "    df_defs[c] = tmp\n",
    "    # Stopword removal\n",
    "    tmp = df_defs[c].apply(lambda x: ' '.join([word for word in str(x).split() if word not in stopwords.values]))\n",
    "    df_defs[c] = tmp\n",
    "df_defs.head()"
   ],
   "metadata": {
    "collapsed": false,
    "pycharm": {
     "name": "#%%\n"
    }
   }
  },
  {
   "cell_type": "markdown",
   "source": [
    "Siccome in WordNet sono presenti molti synsets sfruttiamo il meccanismo del __genus-differentia__ per ridurre lo spazio di ricerca.\n",
    "Il _genus-differentia_ usa un iperonimo per individuare la categoria della parola (_genus_) e le sue proprietà per distinguerla dagli altri elementi (_differentia_)."
   ],
   "metadata": {
    "collapsed": false,
    "pycharm": {
     "name": "#%% md\n"
    }
   }
  },
  {
   "cell_type": "markdown",
   "source": [
    "Dalle definizioni prendiamo le 4 parole più frequentemente utilizzate, ognuna di esse rappresenta un candidato _genus_."
   ],
   "metadata": {
    "collapsed": false,
    "pycharm": {
     "name": "#%% md\n"
    }
   }
  },
  {
   "cell_type": "code",
   "execution_count": 12,
   "outputs": [],
   "source": [
    "def get_frequent_words(df, col):\n",
    "    \"\"\"\n",
    "    Function to get first 4 frequent words.\n",
    "\n",
    "    :param df: dataframe with sentences\n",
    "    :param col: column to search in\n",
    "\n",
    "    :return: first 4 frequent words in the given column\n",
    "    \"\"\"\n",
    "    sents = []\n",
    "    df[col].apply(lambda x: sents.append(x.split()))\n",
    "    words = []\n",
    "    # costruiamo una lista di parole\n",
    "    for s in sents:\n",
    "        words += s\n",
    "    # contiamo le parole in un dizionario\n",
    "    counts = dict.fromkeys(words, 0) # inizializziamo i conteggi di tutte le parole a 0\n",
    "    for w in words:\n",
    "        counts[w] += 1\n",
    "    # ordiniamo le parole in ordine decrescente\n",
    "    df2 = pd.DataFrame(data={'word': counts.keys(), 'frequency': counts.values()})\n",
    "    df2.sort_values(by='frequency', ascending=False, inplace=True)\n",
    "    return df2[:4] # prendiamo solo le prime 4 più frequenti"
   ],
   "metadata": {
    "collapsed": false,
    "pycharm": {
     "name": "#%%\n"
    }
   }
  },
  {
   "cell_type": "code",
   "execution_count": 13,
   "outputs": [
    {
     "name": "stdout",
     "output_type": "stream",
     "text": [
      "\n",
      "--------- Courage ---------\n",
      "          word  frequency\n",
      "7      ability         19\n",
      "6         fear         14\n",
      "2         face          9\n",
      "15  situations          6\n",
      "\n",
      "--------- Paper ---------\n",
      "         word  frequency\n",
      "1    material         22\n",
      "18      write          8\n",
      "11    writing          8\n",
      "0   cellulose          7\n",
      "\n",
      "--------- Apprehension ---------\n",
      "       word  frequency\n",
      "24     fear         10\n",
      "32  anxiety         10\n",
      "1   feeling          6\n",
      "36   happen          5\n",
      "\n",
      "--------- Sharpener ---------\n",
      "      word  frequency\n",
      "0     tool         16\n",
      "4  sharpen         16\n",
      "8   pencil         16\n",
      "6   object         12\n"
     ]
    }
   ],
   "source": [
    "freq_words = dict.fromkeys(df_defs.columns)\n",
    "for col in df_defs.columns:\n",
    "    freq_words[col] = get_frequent_words(df_defs, col)\n",
    "    print('\\n---------', col, '---------')\n",
    "    print(freq_words[col])"
   ],
   "metadata": {
    "collapsed": false,
    "pycharm": {
     "name": "#%%\n"
    }
   }
  },
  {
   "cell_type": "markdown",
   "source": [
    "Passiamo dalle parole frequenti ai loro synset accedendo a WN."
   ],
   "metadata": {
    "collapsed": false,
    "pycharm": {
     "name": "#%% md\n"
    }
   }
  },
  {
   "cell_type": "code",
   "execution_count": 14,
   "outputs": [
    {
     "name": "stdout",
     "output_type": "stream",
     "text": [
      "\n",
      "--------- Courage ---------\n",
      "          word  frequency                                                syn\n",
      "7      ability         19   [Synset('ability.n.01'), Synset('ability.n.02')]\n",
      "6         fear         14  [Synset('fear.n.01'), Synset('concern.n.02'), ...\n",
      "2         face          9  [Synset('face.n.01'), Synset('expression.n.01'...\n",
      "15  situations          6  [Synset('situation.n.01'), Synset('situation.n...\n",
      "\n",
      "--------- Paper ---------\n",
      "         word  frequency                                                syn\n",
      "1    material         22  [Synset('material.n.01'), Synset('material.n.0...\n",
      "18      write          8  [Synset('write.v.01'), Synset('write.v.02'), S...\n",
      "11    writing          8  [Synset('writing.n.01'), Synset('writing.n.02'...\n",
      "0   cellulose          7                         [Synset('cellulose.n.01')]\n",
      "\n",
      "--------- Apprehension ---------\n",
      "       word  frequency                                                syn\n",
      "24     fear         10  [Synset('fear.n.01'), Synset('concern.n.02'), ...\n",
      "32  anxiety         10   [Synset('anxiety.n.01'), Synset('anxiety.n.02')]\n",
      "1   feeling          6  [Synset('feeling.n.01'), Synset('impression.n....\n",
      "36   happen          5  [Synset('happen.v.01'), Synset('happen.v.02'),...\n",
      "\n",
      "--------- Sharpener ---------\n",
      "      word  frequency                                                syn\n",
      "0     tool         16  [Synset('tool.n.01'), Synset('instrument.n.02'...\n",
      "4  sharpen         16  [Synset('sharpen.v.01'), Synset('sharpen.v.02'...\n",
      "8   pencil         16  [Synset('pencil.n.01'), Synset('pencil.n.02'),...\n",
      "6   object         12  [Synset('object.n.01'), Synset('aim.n.02'), Sy...\n"
     ]
    }
   ],
   "source": [
    "for k in freq_words.keys():\n",
    "    df = freq_words[k]\n",
    "    df['syn'] = df['word'].apply(lambda x: wn.synsets(x))\n",
    "    freq_words[k] = df\n",
    "    print('\\n---------', k, '---------')\n",
    "    print(freq_words[k])"
   ],
   "metadata": {
    "collapsed": false,
    "pycharm": {
     "name": "#%%\n"
    }
   }
  },
  {
   "cell_type": "markdown",
   "source": [
    "Per ogni synset trovato guardiamo fra i suoi iponimi (essendo il genus un iperonimo) alla ricerca del synset corretto per le parole target. Valutiamo l'intersezione fra la definizione del synset e quelle del file."
   ],
   "metadata": {
    "collapsed": false,
    "pycharm": {
     "name": "#%% md\n"
    }
   }
  },
  {
   "cell_type": "code",
   "execution_count": 15,
   "outputs": [],
   "source": [
    "NUM_DEFS = len(df_defs) # 30\n",
    "\n",
    "def bag_of_words(d, defs):\n",
    "    \"\"\"\n",
    "    Find the average intersection length between a definition and the others.\n",
    "\n",
    "    :param d: the definition\n",
    "    :param defs: the other definitions\n",
    "\n",
    "    :return: average length of the intersection\n",
    "    \"\"\"\n",
    "    d = set(d.split())\n",
    "    sum = 0\n",
    "    for other_d in defs:\n",
    "        bow = d.intersection(other_d.split()) # calcolo l'intersezione fra le due definizioni\n",
    "        sum += len(bow) / min(len(d), len(other_d.split())) # normalizzazione\n",
    "    return sum/NUM_DEFS"
   ],
   "metadata": {
    "collapsed": false,
    "pycharm": {
     "name": "#%%\n"
    }
   }
  },
  {
   "cell_type": "code",
   "execution_count": 16,
   "outputs": [
    {
     "name": "stdout",
     "output_type": "stream",
     "text": [
      "--------- Courage ---------\n",
      "(Synset('hand.n.04'), 0.6333333333333333)\n",
      "syn definition:  ability\n",
      "\n",
      "--------- Paper ---------\n",
      "(Synset('paper.n.01'), 0.3544444444444445)\n",
      "syn definition:  a material made of cellulose pulp derived mainly from wood or rags or certain grasses\n",
      "\n",
      "--------- Apprehension ---------\n",
      "(Synset('panic.n.01'), 0.24222222222222223)\n",
      "syn definition:  an overwhelming feeling of fear and anxiety\n",
      "\n",
      "--------- Sharpener ---------\n",
      "(Synset('jaw.n.03'), 0.2883333333333333)\n",
      "syn definition:  holding device consisting of one or both of the opposing parts of a tool that close to hold an object\n",
      "\n"
     ]
    }
   ],
   "source": [
    "for k in freq_words.keys(): # per ogni parola target\n",
    "    df = freq_words[k] # prendiamo le sue parole frequenti\n",
    "    best = (None, 0)\n",
    "    for syn in df['syn']: # per ogni synset (rappresentante un candidato genus)\n",
    "        nodes = syn\n",
    "        while nodes:\n",
    "            syn = nodes[0]\n",
    "            d = syn.definition()\n",
    "            bow_score = bag_of_words(d, df_defs[k]) #todo controllare se va bene usare bag_of_words() oppure se serve l'altra funzione compute_sim() del lab_1.1\n",
    "            if bow_score > best[1]:\n",
    "                best = (syn, bow_score)\n",
    "            nodes.remove(syn) # per evitare loop\n",
    "            nodes += syn.hyponyms() # esploriamo tutta la porzione di albero di WN con radice il candidato genus fino alle foglie\n",
    "    print('---------', k, '---------')\n",
    "    print(best)\n",
    "    print('syn definition: ', best[0].definition(), end='\\n\\n')\n"
   ],
   "metadata": {
    "collapsed": false,
    "pycharm": {
     "name": "#%%\n"
    }
   }
  },
  {
   "cell_type": "markdown",
   "source": [
    "Come possiamo notare il sistema è riuscito ad individuare il senso corretto per la parola _Paper_, questo era ipotizzabile dal momento che si tratta di un oggetto concreto, con features ben definite e quindi facilmente individuabili.\n",
    "\n",
    "Riguardo la parola _Apprehension_ abbiamo ottenuto un risultato affine a quello corretto, qui si tratta però di uno oggetto astratto, per il quale è difficile ottenere una descrizione accurata, quindi il sistema ha comunque ottenuto un buon risultato. Inoltre, guardando alle parole frequenti delle definizioni del file, notiamo che 3/4 di esse sono state usate nella definizione del synset, sintomo di una corretta esecuzione.\n",
    "\n",
    "Discorso diverso per la parola _Courage_, che è anch'essa un oggetto astratto ma per la quale i risultati non sono quelli sperati. Di nuovo notiamo come l'unica parola della definizione del synset sia la parola maggiormente utilizzata nelle definizioni del file, questo può essere il motivo di tale risultato.\n",
    "\n",
    "In conclusione anche per _Sharpener_ otteniamo un risultato errato, qui però l'oggetto è fisico e quindi il sistema avrebbe dovuto trovare il senso corretto. Una possibile causa di questo errore è data dai synset candidati genus, infatti alcuni di essi sono verbi, i quali vengono rappresentati in alberi separati all'interno di WN, tagliando quindi dalla ricerca il senso corretto (ad esempio i synsets di _sharpen_ nelle parole frequenti)."
   ],
   "metadata": {
    "collapsed": false,
    "pycharm": {
     "name": "#%% md\n"
    }
   }
  }
 ],
 "metadata": {
  "kernelspec": {
   "display_name": "Python 3",
   "language": "python",
   "name": "python3"
  },
  "language_info": {
   "codemirror_mode": {
    "name": "ipython",
    "version": 2
   },
   "file_extension": ".py",
   "mimetype": "text/x-python",
   "name": "python",
   "nbconvert_exporter": "python",
   "pygments_lexer": "ipython2",
   "version": "2.7.6"
  }
 },
 "nbformat": 4,
 "nbformat_minor": 0
}