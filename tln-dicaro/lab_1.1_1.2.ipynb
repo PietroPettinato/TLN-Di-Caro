{
 "cells": [
  {
   "cell_type": "code",
   "execution_count": 1,
   "outputs": [],
   "source": [
    "import pandas as pd\n",
    "from nltk.stem import PorterStemmer\n",
    "import string"
   ],
   "metadata": {
    "collapsed": false,
    "pycharm": {
     "name": "#%%\n"
    }
   }
  },
  {
   "cell_type": "markdown",
   "source": [
    "# Esercizio 1.1 - Similarity\n",
    "\n",
    "Calcolo della similarità fra i termini del file *defs.csv* ."
   ],
   "metadata": {
    "collapsed": false,
    "pycharm": {
     "name": "#%% md\n"
    }
   }
  },
  {
   "cell_type": "markdown",
   "source": [
    "Caricamento del file *defs.csv* ."
   ],
   "metadata": {
    "collapsed": false,
    "pycharm": {
     "name": "#%% md\n"
    }
   }
  },
  {
   "cell_type": "code",
   "execution_count": 2,
   "metadata": {
    "collapsed": true,
    "pycharm": {
     "name": "#%%\n"
    }
   },
   "outputs": [
    {
     "data": {
      "text/plain": "                                             Courage  \\\n0  property that allows you to face any situation...   \n1  Ability to face our own fears and do something...   \n2            the ability to face thing without fear    \n3  Inner strength that allow you to face particul...   \n4                        Ability to control the fear   \n\n                                               Paper  \\\n0  cellulose material that can be cut, folded and...   \n1  Material derived from trees and used in  sever...   \n2             a type of material made from cellulose   \n3  Product obtained from wood cellulose. It is us...   \n4      Flat material made from wood used for writing   \n\n                                        Apprehension  \\\n0  something strange, which causes a strange feel...   \n1                fearful expectation or anticipation   \n2                    A mood where one feel agitation   \n3                               State of disturbance   \n4                             Worry about the future   \n\n                                           Sharpener  \n0  tool equipped with a blade that allows you to ...  \n1                     Object used to shapen a pencil  \n2                      An object to sharpen a pencil  \n3                       Tool used to sharpen pencils  \n4      Little object which allow to sharpen a pencil  ",
      "text/html": "<div>\n<style scoped>\n    .dataframe tbody tr th:only-of-type {\n        vertical-align: middle;\n    }\n\n    .dataframe tbody tr th {\n        vertical-align: top;\n    }\n\n    .dataframe thead th {\n        text-align: right;\n    }\n</style>\n<table border=\"1\" class=\"dataframe\">\n  <thead>\n    <tr style=\"text-align: right;\">\n      <th></th>\n      <th>Courage</th>\n      <th>Paper</th>\n      <th>Apprehension</th>\n      <th>Sharpener</th>\n    </tr>\n  </thead>\n  <tbody>\n    <tr>\n      <th>0</th>\n      <td>property that allows you to face any situation...</td>\n      <td>cellulose material that can be cut, folded and...</td>\n      <td>something strange, which causes a strange feel...</td>\n      <td>tool equipped with a blade that allows you to ...</td>\n    </tr>\n    <tr>\n      <th>1</th>\n      <td>Ability to face our own fears and do something...</td>\n      <td>Material derived from trees and used in  sever...</td>\n      <td>fearful expectation or anticipation</td>\n      <td>Object used to shapen a pencil</td>\n    </tr>\n    <tr>\n      <th>2</th>\n      <td>the ability to face thing without fear</td>\n      <td>a type of material made from cellulose</td>\n      <td>A mood where one feel agitation</td>\n      <td>An object to sharpen a pencil</td>\n    </tr>\n    <tr>\n      <th>3</th>\n      <td>Inner strength that allow you to face particul...</td>\n      <td>Product obtained from wood cellulose. It is us...</td>\n      <td>State of disturbance</td>\n      <td>Tool used to sharpen pencils</td>\n    </tr>\n    <tr>\n      <th>4</th>\n      <td>Ability to control the fear</td>\n      <td>Flat material made from wood used for writing</td>\n      <td>Worry about the future</td>\n      <td>Little object which allow to sharpen a pencil</td>\n    </tr>\n  </tbody>\n</table>\n</div>"
     },
     "execution_count": 2,
     "metadata": {},
     "output_type": "execute_result"
    }
   ],
   "source": [
    "df_defs = pd.read_csv(filepath_or_buffer=\"utils/defs.csv\", index_col=0).dropna()\n",
    "df_defs.reset_index(drop=True, inplace=True)\n",
    "NUM_DEFS = len(df_defs) # 30\n",
    "df_defs.head()"
   ]
  },
  {
   "cell_type": "markdown",
   "source": [
    "Fase di preprocessing (_lowercasing_, _punctuation removal_, _stopword removal_, _stemming_)."
   ],
   "metadata": {
    "collapsed": false,
    "pycharm": {
     "name": "#%% md\n"
    }
   }
  },
  {
   "cell_type": "code",
   "execution_count": 3,
   "outputs": [
    {
     "data": {
      "text/plain": "                                       Courage  \\\n0  properti allow face situat despit feel fear   \n1                  abil face fear scar unpleas   \n2                         abil face thing fear   \n3             inner strength allow face situat   \n4                            abil control fear   \n\n                              Paper                             Apprehension  \\\n0  cellulos materi cut fold written  strang strang feel strang normal abnorm   \n1         materi deriv tree context                      fear expect anticip   \n2              type materi cellulos                           mood feel agit   \n3       product wood cellulos write                                  disturb   \n4            flat materi wood write                              worri futur   \n\n                               Sharpener  \n0  tool equip blade allow sharpen pencil  \n1                   object shapen pencil  \n2                  object sharpen pencil  \n3                    tool sharpen pencil  \n4            object allow sharpen pencil  ",
      "text/html": "<div>\n<style scoped>\n    .dataframe tbody tr th:only-of-type {\n        vertical-align: middle;\n    }\n\n    .dataframe tbody tr th {\n        vertical-align: top;\n    }\n\n    .dataframe thead th {\n        text-align: right;\n    }\n</style>\n<table border=\"1\" class=\"dataframe\">\n  <thead>\n    <tr style=\"text-align: right;\">\n      <th></th>\n      <th>Courage</th>\n      <th>Paper</th>\n      <th>Apprehension</th>\n      <th>Sharpener</th>\n    </tr>\n  </thead>\n  <tbody>\n    <tr>\n      <th>0</th>\n      <td>properti allow face situat despit feel fear</td>\n      <td>cellulos materi cut fold written</td>\n      <td>strang strang feel strang normal abnorm</td>\n      <td>tool equip blade allow sharpen pencil</td>\n    </tr>\n    <tr>\n      <th>1</th>\n      <td>abil face fear scar unpleas</td>\n      <td>materi deriv tree context</td>\n      <td>fear expect anticip</td>\n      <td>object shapen pencil</td>\n    </tr>\n    <tr>\n      <th>2</th>\n      <td>abil face thing fear</td>\n      <td>type materi cellulos</td>\n      <td>mood feel agit</td>\n      <td>object sharpen pencil</td>\n    </tr>\n    <tr>\n      <th>3</th>\n      <td>inner strength allow face situat</td>\n      <td>product wood cellulos write</td>\n      <td>disturb</td>\n      <td>tool sharpen pencil</td>\n    </tr>\n    <tr>\n      <th>4</th>\n      <td>abil control fear</td>\n      <td>flat materi wood write</td>\n      <td>worri futur</td>\n      <td>object allow sharpen pencil</td>\n    </tr>\n  </tbody>\n</table>\n</div>"
     },
     "execution_count": 3,
     "metadata": {},
     "output_type": "execute_result"
    }
   ],
   "source": [
    "# Loading stopwords list from file\n",
    "stopwords = []\n",
    "for line in open(\"utils/stop_words_FULL.txt\", 'r').readlines():\n",
    "    stopwords.append(line.rstrip('\\n'))\n",
    "stopwords = pd.Series(stopwords)\n",
    "\n",
    "# Initializing nltk.PorterStemmer()\n",
    "ps = PorterStemmer()\n",
    "\n",
    "for c in df_defs.columns:\n",
    "    # Lowercasing\n",
    "    df_defs[c] = df_defs[c].str.lower()\n",
    "    # Punct removal\n",
    "    tmp = df_defs[c].apply(lambda x: str(x).translate(str.maketrans('', '', string.punctuation)))\n",
    "    df_defs[c] = tmp\n",
    "    # Stopword removal\n",
    "    tmp = df_defs[c].apply(lambda x: ' '.join([word for word in str(x).split() if word not in stopwords.values]))\n",
    "    df_defs[c] = tmp\n",
    "    # Stemming\n",
    "    tmp = df_defs[c].apply(lambda x: ' '.join([ps.stem(word) for word in str(x).split()]))\n",
    "    df_defs[c] = tmp\n",
    "df_defs.head()"
   ],
   "metadata": {
    "collapsed": false,
    "pycharm": {
     "name": "#%%\n"
    }
   }
  },
  {
   "cell_type": "markdown",
   "source": [
    "Calcolo della similarità fra le definizioni di ogni termine.\n",
    "\n",
    "La similarità viene calcolata come la media fra i valori medi delle _Bag of Words_ calcolati su tutte le combinazioni di definizioni. Ogni definizione avrà un certo numero medio di parole che sono presenti anche in altre definizioni, facendo la media fra tutti i valori si ottiene il punteggio di similarità del termine.\n",
    "\n",
    "Ci aspettiamo che i termini __concreti__ ('*Paper*', '*Sharpener*') abbiamo un valore di similarità maggiore rispetto a quelli __astratti__ ('*Courage*', '*Apprehension*')"
   ],
   "metadata": {
    "collapsed": false,
    "pycharm": {
     "name": "#%% md\n"
    }
   }
  },
  {
   "cell_type": "code",
   "execution_count": 4,
   "outputs": [
    {
     "name": "stdout",
     "output_type": "stream",
     "text": [
      "--- Valori di similarità dei termini ---\n",
      "                                    Astratto                       Concreto\n",
      "Generico        Courage: 0.32249735449735445     Paper: 0.37825925925925924\n",
      "Specifico  Apprehension: 0.15857407407407406  Sharpener: 0.5051111111111111 \n",
      "\n",
      "--- Valore medio lungo le colonne ---\n",
      "Astratto    0.240536\n",
      "Concreto    0.441685\n",
      "dtype: float64 \n",
      "\n",
      "--- Valore medio lungo le righe ---\n",
      "Generico     0.350378\n",
      "Specifico    0.331843\n",
      "dtype: float64\n"
     ]
    }
   ],
   "source": [
    "def bag_of_words(d, defs):\n",
    "    \"\"\"\n",
    "    Find the average intersection length between a definition and the others.\n",
    "\n",
    "    :param d: the definition\n",
    "    :param defs: the other definitions\n",
    "\n",
    "    :return: average length of the intersection\n",
    "    \"\"\"\n",
    "    d = set(d.split())\n",
    "    sum = 0\n",
    "    for other_d in defs:\n",
    "        bow = d.intersection(other_d.split()) # calcolo intersezione fra le due definizioni\n",
    "        sum += len(bow) / min(len(d), len(other_d.split())) # normalizzazione\n",
    "    return sum/NUM_DEFS\n",
    "\n",
    "\n",
    "def compute_sim(c):\n",
    "    \"\"\"\n",
    "    Find the average bow value between all the definitions of a term.\n",
    "\n",
    "    :param c: the term's column in the dataframe\n",
    "\n",
    "    :return: average bow value\n",
    "    \"\"\"\n",
    "    sum = 0\n",
    "    for i in range(NUM_DEFS):\n",
    "        sum += bag_of_words(df_defs[c][i], df_defs[c]) # calcoliamo la similarità di ogni definizione con a tutte le altre\n",
    "    return sum/NUM_DEFS # facciamo la media\n",
    "\n",
    "\n",
    "df_res = pd.DataFrame(index=['Generico', 'Specifico'], columns=['Astratto', 'Concreto'])\n",
    "df_res_terms = pd.DataFrame(index=['Generico', 'Specifico'], columns=['Astratto', 'Concreto'])\n",
    "for c, i, j in zip(df_defs.columns, [0,0,1,1], [0,1,0,1]):\n",
    "    df_res_terms.iloc[i,j] = f'{c}: {compute_sim(c)}'\n",
    "    df_res.iloc[i,j] = compute_sim(c)\n",
    "    # media delle medie delle intersezioni fra tutte le combinazioni di definizioni della colonna c\n",
    "    # per ogni definizione calcolo la bow media con tutte le altre defs, faccio la media delle medie ed ho la similarità\n",
    "print('--- Valori di similarità dei termini ---')\n",
    "print(df_res_terms, '\\n')\n",
    "print('--- Valore medio lungo le colonne ---')\n",
    "print(df_res.mean(axis=0), '\\n')\n",
    "print('--- Valore medio lungo le righe ---')\n",
    "print(df_res.mean(axis=1))"
   ],
   "metadata": {
    "collapsed": false,
    "pycharm": {
     "name": "#%%\n"
    }
   }
  },
  {
   "cell_type": "markdown",
   "source": [
    "I risultati ottenuti confermano le ipotesi iniziali, in particolare:\n",
    "- se andiamo dall'__astratto al concreto__ abbiamo un valore __crescente__ di similarità\n",
    "- se andiamo dal __generico allo specifico__ abbiamo un valore __decrescente__ di similarità\n"
   ],
   "metadata": {
    "collapsed": false,
    "pycharm": {
     "name": "#%% md\n"
    }
   }
  },
  {
   "cell_type": "markdown",
   "source": [
    "# Esercizio 1.2 - Similarity explanation\n",
    "Spiegazione della similarità usando una lista delle parole più frequentemente usate nelle definizioni."
   ],
   "metadata": {
    "collapsed": false,
    "pycharm": {
     "name": "#%% md\n"
    }
   }
  },
  {
   "cell_type": "markdown",
   "source": [
    "Per ogni termine viene calcolato:\n",
    " - il numero totale di paorle diverse usate nelle definizioni\n",
    " - una lista delle parole maggiormente usate (occorrono in almeno la metà delle definizioni)"
   ],
   "metadata": {
    "collapsed": false,
    "pycharm": {
     "name": "#%% md\n"
    }
   }
  },
  {
   "cell_type": "code",
   "execution_count": 5,
   "outputs": [
    {
     "name": "stdout",
     "output_type": "stream",
     "text": [
      "Word: 'Courage'\n",
      "Number of words: 51\n",
      "List of frequent words: \n",
      "abil    19\n",
      "fear    18\n",
      "dtype: int64\n",
      "\n",
      "Word: 'Paper'\n",
      "Number of words: 50\n",
      "List of frequent words: \n",
      "materi    23\n",
      "write     16\n",
      "dtype: int64\n",
      "\n",
      "Word: 'Apprehension'\n",
      "Number of words: 57\n",
      "List of frequent words: \n",
      "Series([], dtype: int64)\n",
      "\n",
      "Word: 'Sharpener'\n",
      "Number of words: 28\n",
      "List of frequent words: \n",
      "pencil     25\n",
      "sharpen    19\n",
      "tool       16\n",
      "dtype: int64\n",
      "\n"
     ]
    }
   ],
   "source": [
    "for c in df_defs.columns:\n",
    "    words_count = df_defs[c].str.split(expand=True).stack().value_counts() # conta le occorrenze di ogni parola lungo tutta la colonna del termine\n",
    "    frequent_words = words_count[words_count > 15]  # prendiamo le parole che occorrono in 1/2 (15) delle definizioni, supponendo che ogni parola compaia al più una volta in ogni definizione\n",
    "    print(f'Word: \\'{c}\\'\\n'\n",
    "          f'Number of words: {len(words_count)}\\n'\n",
    "          f'List of frequent words: \\n{frequent_words}\\n')"
   ],
   "metadata": {
    "collapsed": false,
    "pycharm": {
     "name": "#%%\n"
    }
   }
  },
  {
   "cell_type": "markdown",
   "source": [
    "Dai dati ottenuti notiamo come per i termini '*Courage*', '*Paper*' ed '*Apprehension*' il numero delle parole usato sia molto alto, sintomo di una difficoltà nell'individuarli correttamente.\n",
    "\n",
    "Per '*Apprehension*' abbiamo il valore maggiore (57) ed infatti è il termine con il valore di similarità più basso. Questo rispecchia ciò che si era affermato in precedenza, infatti, essendo un termine astratto, è molto difficile da descrivere ed ognuno tende ad avere una propria rappresentazione.\n",
    "\n",
    "Discorso opposto per '*Sharpener*', il quale ha invece poche parole usate (28) ed è quello con la similarità maggiore. Essendo un oggetto fisico è più semplice descriverlo e si tende ad usare un linguaggio più uniforme.\n",
    "\n",
    "Fra le parole più usate nelle definizioni possiamo osservare che per gli oggetti __concreti__ si ha una concentrazione maggiore sugli stessi termini, in quanto le caratteristiche sono visibili ed è semplice descriverle.\n",
    "Questo non vale per gli oggetti __astratti__ i quali hanno una distribuzione delle parole diversa, basti guardare ad '*Apprehension*' che non ha nessuna parola frequente."
   ],
   "metadata": {
    "collapsed": false,
    "pycharm": {
     "name": "#%% md\n"
    }
   }
  }
 ],
 "metadata": {
  "kernelspec": {
   "display_name": "Python 3",
   "language": "python",
   "name": "python3"
  },
  "language_info": {
   "codemirror_mode": {
    "name": "ipython",
    "version": 2
   },
   "file_extension": ".py",
   "mimetype": "text/x-python",
   "name": "python",
   "nbconvert_exporter": "python",
   "pygments_lexer": "ipython2",
   "version": "2.7.6"
  }
 },
 "nbformat": 4,
 "nbformat_minor": 0
}